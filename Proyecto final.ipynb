{
 "cells": [
  {
   "cell_type": "markdown",
   "id": "ff55f78b",
   "metadata": {},
   "source": [
    "Carlos J. Barreto Mora\n",
    "\n",
    "Proyecto Final\n",
    "\n",
    "Universidad de los Andes, Bogotá, Colombia\n",
    "\n",
    "{jy.torres, c.barretom, ja.angulor1}@uniandes.edu.co"
   ]
  },
  {
   "cell_type": "code",
   "execution_count": 51,
   "id": "a5a78f21",
   "metadata": {},
   "outputs": [],
   "source": [
    "import pandas as pd\n",
    "import numpy as np\n",
    "from zipfile import ZipFile\n",
    "import os\n",
    "import seaborn as sns\n",
    "import matplotlib.pyplot as plt\n",
    "import plotly.express as px\n",
    "import shap\n",
    "import pandas as pd\n",
    "import json\n",
    "import numpy as np\n",
    "from sklearn import pipeline\n",
    "from sklearn.model_selection import train_test_split\n",
    "from sklearn.pipeline import make_pipeline, Pipeline\n",
    "from sklearn.impute import SimpleImputer\n",
    "from sklearn.preprocessing import OneHotEncoder, StandardScaler,OrdinalEncoder\n",
    "from sklearn.compose import ColumnTransformer, make_column_selector\n",
    "from sklearn.model_selection import GridSearchCV, cross_val_score\n",
    "from sklearn.neighbors import KNeighborsClassifier\n",
    "from sklearn.metrics import roc_auc_score\n",
    "from sklearn.metrics import accuracy_score\n",
    "from sklearn.tree import DecisionTreeClassifier\n",
    "from sklearn.linear_model import LogisticRegression\n",
    "from sklearn.ensemble import RandomForestClassifier\n",
    "from sklearn import svm\n",
    "import joblib\n",
    "import sklearn\n",
    "from sklearn.model_selection import train_test_split,GridSearchCV,cross_val_score,KFold\n",
    "from sklearn.preprocessing import MinMaxScaler\n",
    "from sklearn.preprocessing import StandardScaler\n",
    "from sklearn.metrics import f1_score\n",
    "from sklearn.metrics import accuracy_score\n",
    "from sklearn.metrics import confusion_matrix\n",
    "from sklearn.metrics import classification_report \n",
    "\n",
    "# Importing modelling libraries\n",
    "import xgboost as xgb\n",
    "from sklearn.svm import SVC\n",
    "from sklearn.ensemble import RandomForestClassifier,GradientBoostingClassifier,VotingClassifier,BaggingClassifier\n",
    "from sklearn.neighbors import KNeighborsClassifier\n",
    "from sklearn.tree import DecisionTreeClassifier\n",
    "from sklearn.linear_model import LogisticRegression\n",
    "from sklearn.naive_bayes import GaussianNB\n",
    "from xgboost import XGBClassifier\n",
    "from sklearn.discriminant_analysis import LinearDiscriminantAnalysis\n",
    "from lightgbm import LGBMClassifier\n",
    "from sklearn.neural_network import MLPClassifier\n",
    "from sklearn.calibration import CalibratedClassifierCV"
   ]
  },
  {
   "cell_type": "code",
   "execution_count": 52,
   "id": "f57116cb",
   "metadata": {},
   "outputs": [],
   "source": [
    "import os\n",
    "file_path_1 = \"Bases de datos/1_BAC.csv\"\n",
    "file_path_2 = \"Bases de datos/2_BAC.csv\"\n",
    "file_path_3 = \"Bases de datos/Catalogo_oficinas.csv\"\n",
    "\n",
    "df = pd.concat(\n",
    "   map(pd.read_csv, [file_path_1, file_path_2]), ignore_index=True)\n",
    "\n",
    "Catalogo = pd.read_csv(file_path_3,sep=';')\n",
    "Catalogo['OficinaCD'] = Catalogo['OficinaCD'].round(decimals=0).astype(object)"
   ]
  },
  {
   "cell_type": "code",
   "execution_count": 53,
   "id": "d8017164",
   "metadata": {},
   "outputs": [
    {
     "data": {
      "text/html": [
       "<div>\n",
       "<style scoped>\n",
       "    .dataframe tbody tr th:only-of-type {\n",
       "        vertical-align: middle;\n",
       "    }\n",
       "\n",
       "    .dataframe tbody tr th {\n",
       "        vertical-align: top;\n",
       "    }\n",
       "\n",
       "    .dataframe thead th {\n",
       "        text-align: right;\n",
       "    }\n",
       "</style>\n",
       "<table border=\"1\" class=\"dataframe\">\n",
       "  <thead>\n",
       "    <tr style=\"text-align: right;\">\n",
       "      <th></th>\n",
       "      <th>OficinaCD</th>\n",
       "      <th>OficinaDesc</th>\n",
       "      <th>Zonal</th>\n",
       "      <th>Regional</th>\n",
       "    </tr>\n",
       "  </thead>\n",
       "  <tbody>\n",
       "    <tr>\n",
       "      <th>0</th>\n",
       "      <td>16298.0</td>\n",
       "      <td>CB MISCELANEA Y LICORES LA 69</td>\n",
       "      <td>VALLE</td>\n",
       "      <td>OCCIDENTE</td>\n",
       "    </tr>\n",
       "    <tr>\n",
       "      <th>1</th>\n",
       "      <td>18354.0</td>\n",
       "      <td>CB HATO COROZAL</td>\n",
       "      <td>CASANARE</td>\n",
       "      <td>ORIENTE</td>\n",
       "    </tr>\n",
       "    <tr>\n",
       "      <th>2</th>\n",
       "      <td>19405.0</td>\n",
       "      <td>CB ALMACEN FERREOAGRO</td>\n",
       "      <td>VALLE NORTE</td>\n",
       "      <td>CAFETERA</td>\n",
       "    </tr>\n",
       "    <tr>\n",
       "      <th>3</th>\n",
       "      <td>12056.0</td>\n",
       "      <td>CB DROGAS DEL NORTE</td>\n",
       "      <td>CASANARE</td>\n",
       "      <td>ORIENTE</td>\n",
       "    </tr>\n",
       "    <tr>\n",
       "      <th>4</th>\n",
       "      <td>16176.0</td>\n",
       "      <td>CB CAFE INTERNET AGUILA INTERACTIVA.COM</td>\n",
       "      <td>BOGOTA</td>\n",
       "      <td>BOGOTA</td>\n",
       "    </tr>\n",
       "    <tr>\n",
       "      <th>...</th>\n",
       "      <td>...</td>\n",
       "      <td>...</td>\n",
       "      <td>...</td>\n",
       "      <td>...</td>\n",
       "    </tr>\n",
       "    <tr>\n",
       "      <th>16844</th>\n",
       "      <td>19429.0</td>\n",
       "      <td>CB CAFE INTERNET DANIBY COMUNICACIONES</td>\n",
       "      <td>CUNDINAMARCA OCCIDENTE</td>\n",
       "      <td>BOGOTA</td>\n",
       "    </tr>\n",
       "    <tr>\n",
       "      <th>16845</th>\n",
       "      <td>18015.0</td>\n",
       "      <td>SVT - PRINCIPAL RIOACHA</td>\n",
       "      <td>MAGDALENA</td>\n",
       "      <td>COSTA</td>\n",
       "    </tr>\n",
       "    <tr>\n",
       "      <th>16846</th>\n",
       "      <td>29274.0</td>\n",
       "      <td>CB CAFE INTERNET CENTRO DE COMUNICACIONES LA S...</td>\n",
       "      <td>CORDOBA</td>\n",
       "      <td>ANTIOQUIA</td>\n",
       "    </tr>\n",
       "    <tr>\n",
       "      <th>16847</th>\n",
       "      <td>17524.0</td>\n",
       "      <td>CB DROGAS DEL NORTE No 2</td>\n",
       "      <td>VALLE</td>\n",
       "      <td>OCCIDENTE</td>\n",
       "    </tr>\n",
       "    <tr>\n",
       "      <th>16848</th>\n",
       "      <td>28855.0</td>\n",
       "      <td>CB  PAPELERIA ANGEL JM</td>\n",
       "      <td>BOGOTA</td>\n",
       "      <td>BOGOTA</td>\n",
       "    </tr>\n",
       "  </tbody>\n",
       "</table>\n",
       "<p>16646 rows × 4 columns</p>\n",
       "</div>"
      ],
      "text/plain": [
       "      OficinaCD                                        OficinaDesc  \\\n",
       "0       16298.0                      CB MISCELANEA Y LICORES LA 69   \n",
       "1       18354.0                                    CB HATO COROZAL   \n",
       "2       19405.0                              CB ALMACEN FERREOAGRO   \n",
       "3       12056.0                                CB DROGAS DEL NORTE   \n",
       "4       16176.0            CB CAFE INTERNET AGUILA INTERACTIVA.COM   \n",
       "...         ...                                                ...   \n",
       "16844   19429.0             CB CAFE INTERNET DANIBY COMUNICACIONES   \n",
       "16845   18015.0                            SVT - PRINCIPAL RIOACHA   \n",
       "16846   29274.0  CB CAFE INTERNET CENTRO DE COMUNICACIONES LA S...   \n",
       "16847   17524.0                           CB DROGAS DEL NORTE No 2   \n",
       "16848   28855.0                             CB  PAPELERIA ANGEL JM   \n",
       "\n",
       "                        Zonal   Regional  \n",
       "0                       VALLE  OCCIDENTE  \n",
       "1                    CASANARE    ORIENTE  \n",
       "2                 VALLE NORTE   CAFETERA  \n",
       "3                    CASANARE    ORIENTE  \n",
       "4                      BOGOTA     BOGOTA  \n",
       "...                       ...        ...  \n",
       "16844  CUNDINAMARCA OCCIDENTE     BOGOTA  \n",
       "16845               MAGDALENA      COSTA  \n",
       "16846                 CORDOBA  ANTIOQUIA  \n",
       "16847                   VALLE  OCCIDENTE  \n",
       "16848                  BOGOTA     BOGOTA  \n",
       "\n",
       "[16646 rows x 4 columns]"
      ]
     },
     "execution_count": 53,
     "metadata": {},
     "output_type": "execute_result"
    }
   ],
   "source": [
    "Catalogo.dropna()"
   ]
  },
  {
   "cell_type": "code",
   "execution_count": 54,
   "id": "8a641f30",
   "metadata": {},
   "outputs": [],
   "source": [
    "df_1 = pd.merge(df, Catalogo, how='left', left_on=df['SBAN'], right_on=Catalogo['OficinaCD'])"
   ]
  },
  {
   "cell_type": "code",
   "execution_count": 55,
   "id": "4084be54",
   "metadata": {},
   "outputs": [
    {
     "name": "stdout",
     "output_type": "stream",
     "text": [
      "<class 'pandas.core.frame.DataFrame'>\n",
      "Int64Index: 1050743 entries, 0 to 1050742\n",
      "Data columns (total 57 columns):\n",
      " #   Column                           Non-Null Count    Dtype  \n",
      "---  ------                           --------------    -----  \n",
      " 0   key_0                            1050743 non-null  int64  \n",
      " 1   FechaCorte                       1050743 non-null  object \n",
      " 2   ClienteID                        1050743 non-null  int64  \n",
      " 3   SegmentoDesc                     1050743 non-null  object \n",
      " 4   SBAN                             1050743 non-null  int64  \n",
      " 5   TipoDoctoIdentificacionCD        1050743 non-null  object \n",
      " 6   TipoPersonaDesc                  1050743 non-null  object \n",
      " 7   NaturalezaJuridicaDesc           1050731 non-null  object \n",
      " 8   SexoDesc                         1032305 non-null  object \n",
      " 9   Edad                             1032305 non-null  float64\n",
      " 10  EstadoCivilDesc                  1022523 non-null  object \n",
      " 11  ProfesionDesc                    1023599 non-null  object \n",
      " 12  Cod_CIIU                         1050719 non-null  float64\n",
      " 13  ClienteFallecido                 1050743 non-null  object \n",
      " 14  indClienteEsEmpleado             1036756 non-null  object \n",
      " 15  FechaVinculacionBAC              1050727 non-null  object \n",
      " 16  EstadoClienteDesc                1050743 non-null  object \n",
      " 17  TipoClienteDesc                  1050743 non-null  object \n",
      " 18  ValorActivos                     1042129 non-null  float64\n",
      " 19  ValorEgresos                     1042849 non-null  float64\n",
      " 20  ValorIngresos                    1042752 non-null  float64\n",
      " 21  ValorOtrosingresos               629326 non-null   float64\n",
      " 22  ValorPatrimonio                  1042129 non-null  float64\n",
      " 23  TotalPasivos                     1041965 non-null  float64\n",
      " 24  NumCreditos                      1050743 non-null  int64  \n",
      " 25  SaldoCreditos                    1050743 non-null  float64\n",
      " 26  SaldoCarteraVencida              1050743 non-null  int64  \n",
      " 27  NumeroTC                         1050743 non-null  int64  \n",
      " 28  SaldoTC                          1050743 non-null  float64\n",
      " 29  SaldoTCVencido                   1050743 non-null  float64\n",
      " 30  NumeroSobregisrosUso             1050743 non-null  int64  \n",
      " 31  SaldoSobregirosUso               1050743 non-null  float64\n",
      " 32  SaldoSobregirosVencidos          1050743 non-null  float64\n",
      " 33  NumeroCuentasAhorroActivas       1050743 non-null  int64  \n",
      " 34  SaldoCuentasAhorroActivas        1050743 non-null  float64\n",
      " 35  NumeroCuentasAhorroInactivas     1050743 non-null  int64  \n",
      " 36  SaldoCuentasAhorroInactivas      1050743 non-null  float64\n",
      " 37  NumeroCuentasCorrienteActivas    1050743 non-null  int64  \n",
      " 38  SaldoCuentasCorrienteActivas     1050743 non-null  float64\n",
      " 39  NumeroCuentascorrienteInactivas  1050743 non-null  int64  \n",
      " 40  SaldoCuentascorrienteInactivas   1050743 non-null  float64\n",
      " 41  NumeroCDT                        1050743 non-null  int64  \n",
      " 42  SaldoCDT                         1050743 non-null  float64\n",
      " 43  NumeroCDAT                       1050743 non-null  int64  \n",
      " 44  SaldoCDAT                        1050743 non-null  float64\n",
      " 45  SaldoTotalCartera                1050743 non-null  float64\n",
      " 46  NumeroOperacionesCartera         1050743 non-null  int64  \n",
      " 47  NumeroProductosCaptacion         1050743 non-null  int64  \n",
      " 48  SaldoTotalCaptaciones            1050743 non-null  float64\n",
      " 49  NumCreditosVencidos              1050743 non-null  int64  \n",
      " 50  NumeroTCVencidas                 1050743 non-null  int64  \n",
      " 51  NumOperacionesCarteraVencida     1050743 non-null  int64  \n",
      " 52  SaldoTotalCarteraVencida         1050743 non-null  int64  \n",
      " 53  OficinaCD                        1050741 non-null  object \n",
      " 54  OficinaDesc                      1050741 non-null  object \n",
      " 55  Zonal                            1050741 non-null  object \n",
      " 56  Regional                         1050741 non-null  object \n",
      "dtypes: float64(21), int64(19), object(17)\n",
      "memory usage: 465.0+ MB\n"
     ]
    }
   ],
   "source": [
    "#Número de datos en cada una de las variables del dataframe\n",
    "df_1.info()"
   ]
  },
  {
   "cell_type": "code",
   "execution_count": 56,
   "id": "2880499d",
   "metadata": {},
   "outputs": [
    {
     "data": {
      "text/html": [
       "<div>\n",
       "<style scoped>\n",
       "    .dataframe tbody tr th:only-of-type {\n",
       "        vertical-align: middle;\n",
       "    }\n",
       "\n",
       "    .dataframe tbody tr th {\n",
       "        vertical-align: top;\n",
       "    }\n",
       "\n",
       "    .dataframe thead th {\n",
       "        text-align: right;\n",
       "    }\n",
       "</style>\n",
       "<table border=\"1\" class=\"dataframe\">\n",
       "  <thead>\n",
       "    <tr style=\"text-align: right;\">\n",
       "      <th></th>\n",
       "      <th>key_0</th>\n",
       "      <th>FechaCorte</th>\n",
       "      <th>ClienteID</th>\n",
       "      <th>SegmentoDesc</th>\n",
       "      <th>SBAN</th>\n",
       "      <th>TipoDoctoIdentificacionCD</th>\n",
       "      <th>TipoPersonaDesc</th>\n",
       "      <th>NaturalezaJuridicaDesc</th>\n",
       "      <th>SexoDesc</th>\n",
       "      <th>Edad</th>\n",
       "      <th>...</th>\n",
       "      <th>NumeroProductosCaptacion</th>\n",
       "      <th>SaldoTotalCaptaciones</th>\n",
       "      <th>NumCreditosVencidos</th>\n",
       "      <th>NumeroTCVencidas</th>\n",
       "      <th>NumOperacionesCarteraVencida</th>\n",
       "      <th>SaldoTotalCarteraVencida</th>\n",
       "      <th>OficinaCD</th>\n",
       "      <th>OficinaDesc</th>\n",
       "      <th>Zonal</th>\n",
       "      <th>Regional</th>\n",
       "    </tr>\n",
       "  </thead>\n",
       "  <tbody>\n",
       "    <tr>\n",
       "      <th>332595</th>\n",
       "      <td>3029</td>\n",
       "      <td>2020-09-30</td>\n",
       "      <td>114914839</td>\n",
       "      <td>AGROPECUARIA</td>\n",
       "      <td>3029</td>\n",
       "      <td>CC</td>\n",
       "      <td>PERSONA</td>\n",
       "      <td>PARTICULAR</td>\n",
       "      <td>FEMENINO</td>\n",
       "      <td>26.0</td>\n",
       "      <td>...</td>\n",
       "      <td>1</td>\n",
       "      <td>0.0</td>\n",
       "      <td>0</td>\n",
       "      <td>0</td>\n",
       "      <td>0</td>\n",
       "      <td>0</td>\n",
       "      <td>NaN</td>\n",
       "      <td>NaN</td>\n",
       "      <td>NaN</td>\n",
       "      <td>NaN</td>\n",
       "    </tr>\n",
       "    <tr>\n",
       "      <th>734185</th>\n",
       "      <td>3029</td>\n",
       "      <td>2020-09-30</td>\n",
       "      <td>203103945</td>\n",
       "      <td>AGROPECUARIA</td>\n",
       "      <td>3029</td>\n",
       "      <td>CC</td>\n",
       "      <td>PERSONA</td>\n",
       "      <td>PARTICULAR</td>\n",
       "      <td>FEMENINO</td>\n",
       "      <td>21.0</td>\n",
       "      <td>...</td>\n",
       "      <td>1</td>\n",
       "      <td>0.0</td>\n",
       "      <td>0</td>\n",
       "      <td>0</td>\n",
       "      <td>0</td>\n",
       "      <td>0</td>\n",
       "      <td>NaN</td>\n",
       "      <td>NaN</td>\n",
       "      <td>NaN</td>\n",
       "      <td>NaN</td>\n",
       "    </tr>\n",
       "  </tbody>\n",
       "</table>\n",
       "<p>2 rows × 57 columns</p>\n",
       "</div>"
      ],
      "text/plain": [
       "        key_0  FechaCorte  ClienteID  SegmentoDesc  SBAN  \\\n",
       "332595   3029  2020-09-30  114914839  AGROPECUARIA  3029   \n",
       "734185   3029  2020-09-30  203103945  AGROPECUARIA  3029   \n",
       "\n",
       "       TipoDoctoIdentificacionCD TipoPersonaDesc NaturalezaJuridicaDesc  \\\n",
       "332595                        CC         PERSONA             PARTICULAR   \n",
       "734185                        CC         PERSONA             PARTICULAR   \n",
       "\n",
       "        SexoDesc  Edad  ... NumeroProductosCaptacion SaldoTotalCaptaciones  \\\n",
       "332595  FEMENINO  26.0  ...                        1                   0.0   \n",
       "734185  FEMENINO  21.0  ...                        1                   0.0   \n",
       "\n",
       "        NumCreditosVencidos NumeroTCVencidas NumOperacionesCarteraVencida  \\\n",
       "332595                    0                0                            0   \n",
       "734185                    0                0                            0   \n",
       "\n",
       "       SaldoTotalCarteraVencida OficinaCD OficinaDesc  Zonal  Regional  \n",
       "332595                        0       NaN         NaN    NaN       NaN  \n",
       "734185                        0       NaN         NaN    NaN       NaN  \n",
       "\n",
       "[2 rows x 57 columns]"
      ]
     },
     "execution_count": 56,
     "metadata": {},
     "output_type": "execute_result"
    }
   ],
   "source": [
    "#Registros con valores nulos \n",
    "df_1[df_1.Regional.isnull()]"
   ]
  },
  {
   "cell_type": "code",
   "execution_count": 57,
   "id": "8a899bfe",
   "metadata": {},
   "outputs": [
    {
     "name": "stdout",
     "output_type": "stream",
     "text": [
      "<class 'pandas.core.frame.DataFrame'>\n",
      "Int64Index: 1050741 entries, 0 to 1050742\n",
      "Data columns (total 53 columns):\n",
      " #   Column                           Non-Null Count    Dtype  \n",
      "---  ------                           --------------    -----  \n",
      " 0   FechaCorte                       1050741 non-null  object \n",
      " 1   ClienteID                        1050741 non-null  int64  \n",
      " 2   SegmentoDesc                     1050741 non-null  object \n",
      " 3   SBAN                             1050741 non-null  int64  \n",
      " 4   TipoDoctoIdentificacionCD        1050741 non-null  object \n",
      " 5   TipoPersonaDesc                  1050741 non-null  object \n",
      " 6   NaturalezaJuridicaDesc           1050729 non-null  object \n",
      " 7   SexoDesc                         1032303 non-null  object \n",
      " 8   Edad                             1032303 non-null  float64\n",
      " 9   EstadoCivilDesc                  1022521 non-null  object \n",
      " 10  ProfesionDesc                    1023597 non-null  object \n",
      " 11  Cod_CIIU                         1050717 non-null  float64\n",
      " 12  ClienteFallecido                 1050741 non-null  object \n",
      " 13  indClienteEsEmpleado             1036754 non-null  object \n",
      " 14  FechaVinculacionBAC              1050725 non-null  object \n",
      " 15  EstadoClienteDesc                1050741 non-null  object \n",
      " 16  TipoClienteDesc                  1050741 non-null  object \n",
      " 17  ValorActivos                     1042127 non-null  float64\n",
      " 18  ValorEgresos                     1042847 non-null  float64\n",
      " 19  ValorIngresos                    1042750 non-null  float64\n",
      " 20  ValorOtrosingresos               629326 non-null   float64\n",
      " 21  ValorPatrimonio                  1042127 non-null  float64\n",
      " 22  TotalPasivos                     1041963 non-null  float64\n",
      " 23  NumCreditos                      1050741 non-null  int64  \n",
      " 24  SaldoCreditos                    1050741 non-null  float64\n",
      " 25  SaldoCarteraVencida              1050741 non-null  int64  \n",
      " 26  NumeroTC                         1050741 non-null  int64  \n",
      " 27  SaldoTC                          1050741 non-null  float64\n",
      " 28  SaldoTCVencido                   1050741 non-null  float64\n",
      " 29  NumeroSobregisrosUso             1050741 non-null  int64  \n",
      " 30  SaldoSobregirosUso               1050741 non-null  float64\n",
      " 31  SaldoSobregirosVencidos          1050741 non-null  float64\n",
      " 32  NumeroCuentasAhorroActivas       1050741 non-null  int64  \n",
      " 33  SaldoCuentasAhorroActivas        1050741 non-null  float64\n",
      " 34  NumeroCuentasAhorroInactivas     1050741 non-null  int64  \n",
      " 35  SaldoCuentasAhorroInactivas      1050741 non-null  float64\n",
      " 36  NumeroCuentasCorrienteActivas    1050741 non-null  int64  \n",
      " 37  SaldoCuentasCorrienteActivas     1050741 non-null  float64\n",
      " 38  NumeroCuentascorrienteInactivas  1050741 non-null  int64  \n",
      " 39  SaldoCuentascorrienteInactivas   1050741 non-null  float64\n",
      " 40  NumeroCDT                        1050741 non-null  int64  \n",
      " 41  SaldoCDT                         1050741 non-null  float64\n",
      " 42  NumeroCDAT                       1050741 non-null  int64  \n",
      " 43  SaldoCDAT                        1050741 non-null  float64\n",
      " 44  SaldoTotalCartera                1050741 non-null  float64\n",
      " 45  NumeroOperacionesCartera         1050741 non-null  int64  \n",
      " 46  NumeroProductosCaptacion         1050741 non-null  int64  \n",
      " 47  SaldoTotalCaptaciones            1050741 non-null  float64\n",
      " 48  NumCreditosVencidos              1050741 non-null  int64  \n",
      " 49  NumeroTCVencidas                 1050741 non-null  int64  \n",
      " 50  NumOperacionesCarteraVencida     1050741 non-null  int64  \n",
      " 51  SaldoTotalCarteraVencida         1050741 non-null  int64  \n",
      " 52  Regional                         1050741 non-null  object \n",
      "dtypes: float64(21), int64(18), object(14)\n",
      "memory usage: 432.9+ MB\n"
     ]
    }
   ],
   "source": [
    "df_1 = df_1[df_1.OficinaCD.notnull()].drop(['key_0','OficinaCD','OficinaDesc','Zonal'], axis=1)\n",
    "df_1.info()"
   ]
  },
  {
   "cell_type": "code",
   "execution_count": 58,
   "id": "af689aeb",
   "metadata": {},
   "outputs": [
    {
     "name": "stdout",
     "output_type": "stream",
     "text": [
      "Datasets lengh: 1050741\n",
      "Unique values for FechaCorte: 1\n",
      "Unique values for ClienteID: 1050741\n",
      "Unique values for SegmentoDesc: 1\n",
      "Unique values for SBAN: 785\n",
      "Unique values for TipoDoctoIdentificacionCD: 9\n",
      "Unique values for TipoPersonaDesc: 2\n",
      "Unique values for NaturalezaJuridicaDesc: 3\n",
      "Unique values for SexoDesc: 3\n",
      "Unique values for Edad: 18553\n",
      "Unique values for EstadoCivilDesc: 7\n",
      "Unique values for ProfesionDesc: 153\n",
      "Unique values for Cod_CIIU: 483\n",
      "Unique values for ClienteFallecido: 2\n",
      "Unique values for indClienteEsEmpleado: 3\n",
      "Unique values for FechaVinculacionBAC: 16956\n",
      "Unique values for EstadoClienteDesc: 2\n",
      "Unique values for TipoClienteDesc: 2\n"
     ]
    }
   ],
   "source": [
    "print(f\"Datasets lengh: {len(df_1)}\")\n",
    "for col in df_1.columns[0:17,]:\n",
    "    print(f\"Unique values for {col}: {len(set(df_1[col]))}\")"
   ]
  },
  {
   "cell_type": "code",
   "execution_count": 59,
   "id": "1a289582",
   "metadata": {},
   "outputs": [
    {
     "data": {
      "text/plain": [
       "array(['CC', 'N', 'CE', 'TI', 'NI', 'RC', 'PP', 'JU', 'PA'], dtype=object)"
      ]
     },
     "execution_count": 59,
     "metadata": {},
     "output_type": "execute_result"
    }
   ],
   "source": [
    "pd.unique(df_1['TipoDoctoIdentificacionCD'])"
   ]
  },
  {
   "cell_type": "code",
   "execution_count": 60,
   "id": "9c18d44e",
   "metadata": {},
   "outputs": [],
   "source": [
    "datos=df_1[df_1['TipoDoctoIdentificacionCD']==\"CC\"]"
   ]
  },
  {
   "cell_type": "code",
   "execution_count": 61,
   "id": "2a3b3ecd",
   "metadata": {},
   "outputs": [
    {
     "name": "stdout",
     "output_type": "stream",
     "text": [
      "Datasets lengh: 1031749\n",
      "Unique values for FechaCorte: 1\n",
      "Unique values for ClienteID: 1031749\n",
      "Unique values for SegmentoDesc: 1\n",
      "Unique values for SBAN: 785\n",
      "Unique values for TipoDoctoIdentificacionCD: 1\n",
      "Unique values for TipoPersonaDesc: 1\n",
      "Unique values for NaturalezaJuridicaDesc: 2\n",
      "Unique values for SexoDesc: 2\n",
      "Unique values for Edad: 100\n",
      "Unique values for EstadoCivilDesc: 7\n",
      "Unique values for ProfesionDesc: 153\n",
      "Unique values for Cod_CIIU: 417\n",
      "Unique values for ClienteFallecido: 2\n",
      "Unique values for indClienteEsEmpleado: 3\n",
      "Unique values for FechaVinculacionBAC: 16934\n",
      "Unique values for EstadoClienteDesc: 2\n",
      "Unique values for TipoClienteDesc: 2\n"
     ]
    }
   ],
   "source": [
    "print(f\"Datasets lengh: {len(datos)}\")\n",
    "for col in datos.columns[0:17,]:\n",
    "    print(f\"Unique values for {col}: {len(set(datos[col]))}\")"
   ]
  },
  {
   "cell_type": "code",
   "execution_count": 62,
   "id": "dddc7eae",
   "metadata": {},
   "outputs": [],
   "source": [
    "datos_1=datos.drop(['FechaCorte','SegmentoDesc','TipoPersonaDesc','Cod_CIIU'],axis=1)"
   ]
  },
  {
   "cell_type": "code",
   "execution_count": 63,
   "id": "c8f792c4",
   "metadata": {},
   "outputs": [
    {
     "data": {
      "text/plain": [
       "ClienteID                               0\n",
       "SBAN                                    0\n",
       "TipoDoctoIdentificacionCD               0\n",
       "NaturalezaJuridicaDesc                 12\n",
       "SexoDesc                                0\n",
       "Edad                                    0\n",
       "EstadoCivilDesc                      9780\n",
       "ProfesionDesc                        8704\n",
       "ClienteFallecido                        0\n",
       "indClienteEsEmpleado                   11\n",
       "FechaVinculacionBAC                    16\n",
       "EstadoClienteDesc                       0\n",
       "TipoClienteDesc                         0\n",
       "ValorActivos                         8606\n",
       "ValorEgresos                         7886\n",
       "ValorIngresos                        7983\n",
       "ValorOtrosingresos                 409925\n",
       "ValorPatrimonio                      8606\n",
       "TotalPasivos                         8768\n",
       "NumCreditos                             0\n",
       "SaldoCreditos                           0\n",
       "SaldoCarteraVencida                     0\n",
       "NumeroTC                                0\n",
       "SaldoTC                                 0\n",
       "SaldoTCVencido                          0\n",
       "NumeroSobregisrosUso                    0\n",
       "SaldoSobregirosUso                      0\n",
       "SaldoSobregirosVencidos                 0\n",
       "NumeroCuentasAhorroActivas              0\n",
       "SaldoCuentasAhorroActivas               0\n",
       "NumeroCuentasAhorroInactivas            0\n",
       "SaldoCuentasAhorroInactivas             0\n",
       "NumeroCuentasCorrienteActivas           0\n",
       "SaldoCuentasCorrienteActivas            0\n",
       "NumeroCuentascorrienteInactivas         0\n",
       "SaldoCuentascorrienteInactivas          0\n",
       "NumeroCDT                               0\n",
       "SaldoCDT                                0\n",
       "NumeroCDAT                              0\n",
       "SaldoCDAT                               0\n",
       "SaldoTotalCartera                       0\n",
       "NumeroOperacionesCartera                0\n",
       "NumeroProductosCaptacion                0\n",
       "SaldoTotalCaptaciones                   0\n",
       "NumCreditosVencidos                     0\n",
       "NumeroTCVencidas                        0\n",
       "NumOperacionesCarteraVencida            0\n",
       "SaldoTotalCarteraVencida                0\n",
       "Regional                                0\n",
       "dtype: int64"
      ]
     },
     "execution_count": 63,
     "metadata": {},
     "output_type": "execute_result"
    }
   ],
   "source": [
    "datos_1.isnull().sum()"
   ]
  },
  {
   "cell_type": "code",
   "execution_count": 64,
   "id": "7f53b567",
   "metadata": {},
   "outputs": [
    {
     "name": "stdout",
     "output_type": "stream",
     "text": [
      "['PARTICULAR' nan]\n",
      "['N' 'S' nan]\n",
      "['1982-12-30' '2006-02-09' '2004-11-11' ... '1976-09-12' '1979-10-22'\n",
      " '1980-03-09']\n"
     ]
    }
   ],
   "source": [
    "print(pd.unique(datos_1['NaturalezaJuridicaDesc']))\n",
    "print(pd.unique(datos_1['indClienteEsEmpleado']))\n",
    "print(pd.unique(datos_1['FechaVinculacionBAC']))"
   ]
  },
  {
   "cell_type": "code",
   "execution_count": 65,
   "id": "a7933cbe",
   "metadata": {},
   "outputs": [],
   "source": [
    "datos_1=datos_1.dropna(subset=['indClienteEsEmpleado', 'FechaVinculacionBAC'])"
   ]
  },
  {
   "cell_type": "code",
   "execution_count": 66,
   "id": "629ec0cb",
   "metadata": {},
   "outputs": [],
   "source": [
    "datos_1[\"NaturalezaJuridicaDesc\"].fillna(\"PARTICULAR\", inplace = True) "
   ]
  },
  {
   "cell_type": "code",
   "execution_count": 67,
   "id": "f76858ea",
   "metadata": {},
   "outputs": [
    {
     "data": {
      "text/plain": [
       "array(['PARTICULAR'], dtype=object)"
      ]
     },
     "execution_count": 67,
     "metadata": {},
     "output_type": "execute_result"
    }
   ],
   "source": [
    "pd.unique(datos_1['NaturalezaJuridicaDesc'])"
   ]
  },
  {
   "cell_type": "code",
   "execution_count": 68,
   "id": "8f84e20c",
   "metadata": {},
   "outputs": [
    {
     "data": {
      "text/plain": [
       "ClienteID                               0\n",
       "SBAN                                    0\n",
       "TipoDoctoIdentificacionCD               0\n",
       "NaturalezaJuridicaDesc                  0\n",
       "SexoDesc                                0\n",
       "Edad                                    0\n",
       "EstadoCivilDesc                      9780\n",
       "ProfesionDesc                        8704\n",
       "ClienteFallecido                        0\n",
       "indClienteEsEmpleado                    0\n",
       "FechaVinculacionBAC                     0\n",
       "EstadoClienteDesc                       0\n",
       "TipoClienteDesc                         0\n",
       "ValorActivos                         8595\n",
       "ValorEgresos                         7875\n",
       "ValorIngresos                        7972\n",
       "ValorOtrosingresos                 409898\n",
       "ValorPatrimonio                      8595\n",
       "TotalPasivos                         8757\n",
       "NumCreditos                             0\n",
       "SaldoCreditos                           0\n",
       "SaldoCarteraVencida                     0\n",
       "NumeroTC                                0\n",
       "SaldoTC                                 0\n",
       "SaldoTCVencido                          0\n",
       "NumeroSobregisrosUso                    0\n",
       "SaldoSobregirosUso                      0\n",
       "SaldoSobregirosVencidos                 0\n",
       "NumeroCuentasAhorroActivas              0\n",
       "SaldoCuentasAhorroActivas               0\n",
       "NumeroCuentasAhorroInactivas            0\n",
       "SaldoCuentasAhorroInactivas             0\n",
       "NumeroCuentasCorrienteActivas           0\n",
       "SaldoCuentasCorrienteActivas            0\n",
       "NumeroCuentascorrienteInactivas         0\n",
       "SaldoCuentascorrienteInactivas          0\n",
       "NumeroCDT                               0\n",
       "SaldoCDT                                0\n",
       "NumeroCDAT                              0\n",
       "SaldoCDAT                               0\n",
       "SaldoTotalCartera                       0\n",
       "NumeroOperacionesCartera                0\n",
       "NumeroProductosCaptacion                0\n",
       "SaldoTotalCaptaciones                   0\n",
       "NumCreditosVencidos                     0\n",
       "NumeroTCVencidas                        0\n",
       "NumOperacionesCarteraVencida            0\n",
       "SaldoTotalCarteraVencida                0\n",
       "Regional                                0\n",
       "dtype: int64"
      ]
     },
     "execution_count": 68,
     "metadata": {},
     "output_type": "execute_result"
    }
   ],
   "source": [
    "datos_1.isnull().sum()"
   ]
  },
  {
   "cell_type": "code",
   "execution_count": 69,
   "id": "66e23962",
   "metadata": {},
   "outputs": [
    {
     "data": {
      "text/plain": [
       "Regional\n",
       "ANTIOQUIA    130923\n",
       "BOGOTA       141525\n",
       "CAFETERA      63606\n",
       "COSTA         60384\n",
       "OCCIDENTE    191238\n",
       "ORIENTE      139880\n",
       "SANTANDER    107208\n",
       "SUR          196958\n",
       "Name: Regional, dtype: int64"
      ]
     },
     "execution_count": 69,
     "metadata": {},
     "output_type": "execute_result"
    }
   ],
   "source": [
    "datos_2=datos_1.groupby(\"Regional\")['Regional'].count()\n",
    "datos_2"
   ]
  },
  {
   "cell_type": "code",
   "execution_count": 70,
   "id": "b4698889",
   "metadata": {},
   "outputs": [
    {
     "name": "stdout",
     "output_type": "stream",
     "text": [
      "Datasets lengh: 509297\n"
     ]
    },
    {
     "data": {
      "text/plain": [
       "ClienteID                               0\n",
       "SBAN                                    0\n",
       "TipoDoctoIdentificacionCD               0\n",
       "NaturalezaJuridicaDesc                  0\n",
       "SexoDesc                                0\n",
       "Edad                                    0\n",
       "EstadoCivilDesc                      4020\n",
       "ProfesionDesc                        3627\n",
       "ClienteFallecido                        0\n",
       "indClienteEsEmpleado                    0\n",
       "FechaVinculacionBAC                     0\n",
       "EstadoClienteDesc                       0\n",
       "TipoClienteDesc                         0\n",
       "ValorActivos                         4279\n",
       "ValorEgresos                         4040\n",
       "ValorIngresos                        4078\n",
       "ValorOtrosingresos                 195860\n",
       "ValorPatrimonio                      4279\n",
       "TotalPasivos                         4242\n",
       "NumCreditos                             0\n",
       "SaldoCreditos                           0\n",
       "SaldoCarteraVencida                     0\n",
       "NumeroTC                                0\n",
       "SaldoTC                                 0\n",
       "SaldoTCVencido                          0\n",
       "NumeroSobregisrosUso                    0\n",
       "SaldoSobregirosUso                      0\n",
       "SaldoSobregirosVencidos                 0\n",
       "NumeroCuentasAhorroActivas              0\n",
       "SaldoCuentasAhorroActivas               0\n",
       "NumeroCuentasAhorroInactivas            0\n",
       "SaldoCuentasAhorroInactivas             0\n",
       "NumeroCuentasCorrienteActivas           0\n",
       "SaldoCuentasCorrienteActivas            0\n",
       "NumeroCuentascorrienteInactivas         0\n",
       "SaldoCuentascorrienteInactivas          0\n",
       "NumeroCDT                               0\n",
       "SaldoCDT                                0\n",
       "NumeroCDAT                              0\n",
       "SaldoCDAT                               0\n",
       "SaldoTotalCartera                       0\n",
       "NumeroOperacionesCartera                0\n",
       "NumeroProductosCaptacion                0\n",
       "SaldoTotalCaptaciones                   0\n",
       "NumCreditosVencidos                     0\n",
       "NumeroTCVencidas                        0\n",
       "NumOperacionesCarteraVencida            0\n",
       "SaldoTotalCarteraVencida                0\n",
       "Regional                                0\n",
       "dtype: int64"
      ]
     },
     "execution_count": 70,
     "metadata": {},
     "output_type": "execute_result"
    }
   ],
   "source": [
    "datos_3=datos_1[datos_1.Regional.isin(['BOGOTA','SUR','SANTANDER','CAFETERA'])]\n",
    "print(f\"Datasets lengh: {len(datos_3)}\")\n",
    "datos_3.isnull().sum()"
   ]
  },
  {
   "cell_type": "code",
   "execution_count": 71,
   "id": "0e99150a",
   "metadata": {},
   "outputs": [],
   "source": [
    "datos_4=datos_3.fillna({'EstadoCivilDesc':'NO REPORTA','ProfesionDesc':'NO REPORTA'})"
   ]
  },
  {
   "cell_type": "code",
   "execution_count": 72,
   "id": "98de01d0",
   "metadata": {},
   "outputs": [],
   "source": [
    "datos_4[\"ValorOtrosingresos\"].fillna(0, inplace = True)"
   ]
  },
  {
   "cell_type": "code",
   "execution_count": 73,
   "id": "0a9a9080",
   "metadata": {},
   "outputs": [],
   "source": [
    "na_cols = datos_4.isna().any()\n",
    "na_cols = na_cols[na_cols == True].reset_index()\n",
    "na_cols = na_cols[\"index\"].tolist()\n",
    "for col in datos_4.columns[1:]:\n",
    "     if col in na_cols:\n",
    "        if datos_4[col].dtype != 'object':\n",
    "             datos_4[col] =  datos_4[col].fillna(datos_4[col].mean()).round(0)"
   ]
  },
  {
   "cell_type": "code",
   "execution_count": 74,
   "id": "ef10223a",
   "metadata": {},
   "outputs": [
    {
     "name": "stdout",
     "output_type": "stream",
     "text": [
      "Datasets lengh: 509297\n"
     ]
    },
    {
     "data": {
      "text/plain": [
       "ClienteID                          0\n",
       "SBAN                               0\n",
       "TipoDoctoIdentificacionCD          0\n",
       "NaturalezaJuridicaDesc             0\n",
       "SexoDesc                           0\n",
       "Edad                               0\n",
       "EstadoCivilDesc                    0\n",
       "ProfesionDesc                      0\n",
       "ClienteFallecido                   0\n",
       "indClienteEsEmpleado               0\n",
       "FechaVinculacionBAC                0\n",
       "EstadoClienteDesc                  0\n",
       "TipoClienteDesc                    0\n",
       "ValorActivos                       0\n",
       "ValorEgresos                       0\n",
       "ValorIngresos                      0\n",
       "ValorOtrosingresos                 0\n",
       "ValorPatrimonio                    0\n",
       "TotalPasivos                       0\n",
       "NumCreditos                        0\n",
       "SaldoCreditos                      0\n",
       "SaldoCarteraVencida                0\n",
       "NumeroTC                           0\n",
       "SaldoTC                            0\n",
       "SaldoTCVencido                     0\n",
       "NumeroSobregisrosUso               0\n",
       "SaldoSobregirosUso                 0\n",
       "SaldoSobregirosVencidos            0\n",
       "NumeroCuentasAhorroActivas         0\n",
       "SaldoCuentasAhorroActivas          0\n",
       "NumeroCuentasAhorroInactivas       0\n",
       "SaldoCuentasAhorroInactivas        0\n",
       "NumeroCuentasCorrienteActivas      0\n",
       "SaldoCuentasCorrienteActivas       0\n",
       "NumeroCuentascorrienteInactivas    0\n",
       "SaldoCuentascorrienteInactivas     0\n",
       "NumeroCDT                          0\n",
       "SaldoCDT                           0\n",
       "NumeroCDAT                         0\n",
       "SaldoCDAT                          0\n",
       "SaldoTotalCartera                  0\n",
       "NumeroOperacionesCartera           0\n",
       "NumeroProductosCaptacion           0\n",
       "SaldoTotalCaptaciones              0\n",
       "NumCreditosVencidos                0\n",
       "NumeroTCVencidas                   0\n",
       "NumOperacionesCarteraVencida       0\n",
       "SaldoTotalCarteraVencida           0\n",
       "Regional                           0\n",
       "dtype: int64"
      ]
     },
     "execution_count": 74,
     "metadata": {},
     "output_type": "execute_result"
    }
   ],
   "source": [
    "print(f\"Datasets lengh: {len(datos_4)}\")\n",
    "datos_4.isnull().sum()"
   ]
  },
  {
   "cell_type": "code",
   "execution_count": 75,
   "id": "9a611c26",
   "metadata": {},
   "outputs": [
    {
     "name": "stdout",
     "output_type": "stream",
     "text": [
      "['INACTIVO' 'ACTIVO']\n"
     ]
    }
   ],
   "source": [
    "print(pd.unique(datos_1['EstadoClienteDesc']))"
   ]
  },
  {
   "cell_type": "code",
   "execution_count": 76,
   "id": "bf614b9c",
   "metadata": {},
   "outputs": [],
   "source": [
    "datos_4['Churn']=datos_4['EstadoClienteDesc'].map({'INACTIVO':1,'ACTIVO':0})"
   ]
  },
  {
   "cell_type": "code",
   "execution_count": 77,
   "id": "8e42e17b",
   "metadata": {},
   "outputs": [
    {
     "name": "stderr",
     "output_type": "stream",
     "text": [
      "`distplot` is a deprecated function and will be removed in a future version. Please adapt your code to use either `displot` (a figure-level function with similar flexibility) or `histplot` (an axes-level function for histograms).\n"
     ]
    },
    {
     "data": {
      "image/png": "[encoded data removed]",
      "text/plain": [
       "<Figure size 432x288 with 1 Axes>"
      ]
     },
     "metadata": {
      "needs_background": "light"
     },
     "output_type": "display_data"
    }
   ],
   "source": [
    "plot=sns.distplot(datos_4['Churn'])"
   ]
  },
  {
   "cell_type": "code",
   "execution_count": 78,
   "id": "ab215b8e",
   "metadata": {},
   "outputs": [
    {
     "name": "stderr",
     "output_type": "stream",
     "text": [
      "More than 20 figures have been opened. Figures created through the pyplot interface (`matplotlib.pyplot.figure`) are retained until explicitly closed and may consume too much memory. (To control this warning, see the rcParam `figure.max_open_warning`).\n"
     ]
    },
    {
     "data": {
      "image/png": "[encoded data removed]",
      "text/plain": [
       "<Figure size 1224x72 with 1 Axes>"
      ]
     },
     "metadata": {
      "needs_background": "light"
     },
     "output_type": "display_data"
    },
    {
     "data": {
      "image/png": "[encoded data removed]",
      "text/plain": [
       "<Figure size 1224x72 with 1 Axes>"
      ]
     },
     "metadata": {
      "needs_background": "light"
     },
     "output_type": "display_data"
    },
    {
     "data": {
      "image/png": "[encoded data removed]",
      "text/plain": [
       "<Figure size 1224x72 with 1 Axes>"
      ]
     },
     "metadata": {
      "needs_background": "light"
     },
     "output_type": "display_data"
    },
    {
     "data": {
      "image/png": "[encoded data removed]",
      "text/plain": [
       "<Figure size 1224x72 with 1 Axes>"
      ]
     },
     "metadata": {
      "needs_background": "light"
     },
     "output_type": "display_data"
    },
    {
     "data": {
      "image/png": "[encoded data removed]",
      "text/plain": [
       "<Figure size 1224x72 with 1 Axes>"
      ]
     },
     "metadata": {
      "needs_background": "light"
     },
     "output_type": "display_data"
    },
    {
     "data": {
      "image/png": "[encoded data removed]",
      "text/plain": [
       "<Figure size 1224x72 with 1 Axes>"
      ]
     },
     "metadata": {
      "needs_background": "light"
     },
     "output_type": "display_data"
    },
    {
     "data": {
      "image/png": "[encoded data removed]",
      "text/plain": [
       "<Figure size 1224x72 with 1 Axes>"
      ]
     },
     "metadata": {
      "needs_background": "light"
     },
     "output_type": "display_data"
    },
    {
     "data": {
      "image/png": "[encoded data removed]",
      "text/plain": [
       "<Figure size 1224x72 with 1 Axes>"
      ]
     },
     "metadata": {
      "needs_background": "light"
     },
     "output_type": "display_data"
    },
    {
     "data": {
      "image/png": "[encoded data removed]",
      "text/plain": [
       "<Figure size 1224x72 with 1 Axes>"
      ]
     },
     "metadata": {
      "needs_background": "light"
     },
     "output_type": "display_data"
    },
    {
     "data": {
      "image/png": "[encoded data removed]",
      "text/plain": [
       "<Figure size 1224x72 with 1 Axes>"
      ]
     },
     "metadata": {
      "needs_background": "light"
     },
     "output_type": "display_data"
    },
    {
     "data": {
      "image/png": "[encoded data removed]",
      "text/plain": [
       "<Figure size 1224x72 with 1 Axes>"
      ]
     },
     "metadata": {
      "needs_background": "light"
     },
     "output_type": "display_data"
    },
    {
     "data": {
      "image/png": "[encoded data removed]",
      "text/plain": [
       "<Figure size 1224x72 with 1 Axes>"
      ]
     },
     "metadata": {
      "needs_background": "light"
     },
     "output_type": "display_data"
    },
    {
     "data": {
      "image/png": "[encoded data removed]",
      "text/plain": [
       "<Figure size 1224x72 with 1 Axes>"
      ]
     },
     "metadata": {
      "needs_background": "light"
     },
     "output_type": "display_data"
    },
    {
     "data": {
      "image/png": "[encoded data removed]",
      "text/plain": [
       "<Figure size 1224x72 with 1 Axes>"
      ]
     },
     "metadata": {
      "needs_background": "light"
     },
     "output_type": "display_data"
    },
    {
     "data": {
      "image/png": "[encoded data removed]",
      "text/plain": [
       "<Figure size 1224x72 with 1 Axes>"
      ]
     },
     "metadata": {
      "needs_background": "light"
     },
     "output_type": "display_data"
    },
    {
     "data": {
      "image/png": "[encoded data removed]",
      "text/plain": [
       "<Figure size 1224x72 with 1 Axes>"
      ]
     },
     "metadata": {
      "needs_background": "light"
     },
     "output_type": "display_data"
    },
    {
     "data": {
      "image/png": "[encoded data removed]",
      "text/plain": [
       "<Figure size 1224x72 with 1 Axes>"
      ]
     },
     "metadata": {
      "needs_background": "light"
     },
     "output_type": "display_data"
    },
    {
     "data": {
      "image/png": "[encoded data removed]",
      "text/plain": [
       "<Figure size 1224x72 with 1 Axes>"
      ]
     },
     "metadata": {
      "needs_background": "light"
     },
     "output_type": "display_data"
    },
    {
     "data": {
      "image/png": "[encoded data removed]",
      "text/plain": [
       "<Figure size 1224x72 with 1 Axes>"
      ]
     },
     "metadata": {
      "needs_background": "light"
     },
     "output_type": "display_data"
    },
    {
     "data": {
      "image/png": "[encoded data removed]",
      "text/plain": [
       "<Figure size 1224x72 with 1 Axes>"
      ]
     },
     "metadata": {
      "needs_background": "light"
     },
     "output_type": "display_data"
    },
    {
     "data": {
      "image/png": "[encoded data removed]",
      "text/plain": [
       "<Figure size 1224x72 with 1 Axes>"
      ]
     },
     "metadata": {
      "needs_background": "light"
     },
     "output_type": "display_data"
    },
    {
     "data": {
      "image/png": "[encoded data removed]",
      "text/plain": [
       "<Figure size 1224x72 with 1 Axes>"
      ]
     },
     "metadata": {
      "needs_background": "light"
     },
     "output_type": "display_data"
    },
    {
     "data": {
      "image/png": "[encoded data removed]",
      "text/plain": [
       "<Figure size 1224x72 with 1 Axes>"
      ]
     },
     "metadata": {
      "needs_background": "light"
     },
     "output_type": "display_data"
    },
    {
     "data": {
      "image/png": "[encoded data removed]",
      "text/plain": [
       "<Figure size 1224x72 with 1 Axes>"
      ]
     },
     "metadata": {
      "needs_background": "light"
     },
     "output_type": "display_data"
    },
    {
     "data": {
      "image/png": "[encoded data removed]",
      "text/plain": [
       "<Figure size 1224x72 with 1 Axes>"
      ]
     },
     "metadata": {
      "needs_background": "light"
     },
     "output_type": "display_data"
    },
    {
     "data": {
      "image/png": "[encoded data removed]",
      "text/plain": [
       "<Figure size 1224x72 with 1 Axes>"
      ]
     },
     "metadata": {
      "needs_background": "light"
     },
     "output_type": "display_data"
    },
    {
     "data": {
      "image/png": "[encoded data removed]",
      "text/plain": [
       "<Figure size 1224x72 with 1 Axes>"
      ]
     },
     "metadata": {
      "needs_background": "light"
     },
     "output_type": "display_data"
    },
    {
     "data": {
      "image/png": "[encoded data removed]",
      "text/plain": [
       "<Figure size 1224x72 with 1 Axes>"
      ]
     },
     "metadata": {
      "needs_background": "light"
     },
     "output_type": "display_data"
    },
    {
     "data": {
      "image/png": "[encoded data removed]",
      "text/plain": [
       "<Figure size 1224x72 with 1 Axes>"
      ]
     },
     "metadata": {
      "needs_background": "light"
     },
     "output_type": "display_data"
    },
    {
     "data": {
      "image/png": "[encoded data removed]",
      "text/plain": [
       "<Figure size 1224x72 with 1 Axes>"
      ]
     },
     "metadata": {
      "needs_background": "light"
     },
     "output_type": "display_data"
    },
    {
     "data": {
      "image/png": "[encoded data removed]",
      "text/plain": [
       "<Figure size 1224x72 with 1 Axes>"
      ]
     },
     "metadata": {
      "needs_background": "light"
     },
     "output_type": "display_data"
    },
    {
     "data": {
      "image/png": "[encoded data removed]",
      "text/plain": [
       "<Figure size 1224x72 with 1 Axes>"
      ]
     },
     "metadata": {
      "needs_background": "light"
     },
     "output_type": "display_data"
    },
    {
     "data": {
      "image/png": "[encoded data removed]",
      "text/plain": [
       "<Figure size 1224x72 with 1 Axes>"
      ]
     },
     "metadata": {
      "needs_background": "light"
     },
     "output_type": "display_data"
    },
    {
     "data": {
      "image/png": "[encoded data removed]",
      "text/plain": [
       "<Figure size 1224x72 with 1 Axes>"
      ]
     },
     "metadata": {
      "needs_background": "light"
     },
     "output_type": "display_data"
    },
    {
     "data": {
      "image/png": "[encoded data removed]",
      "text/plain": [
       "<Figure size 1224x72 with 1 Axes>"
      ]
     },
     "metadata": {
      "needs_background": "light"
     },
     "output_type": "display_data"
    },
    {
     "data": {
      "image/png": "[encoded data removed]",
      "text/plain": [
       "<Figure size 1224x72 with 1 Axes>"
      ]
     },
     "metadata": {
      "needs_background": "light"
     },
     "output_type": "display_data"
    },
    {
     "data": {
      "image/png": "[encoded data removed]",
      "text/plain": [
       "<Figure size 1224x72 with 1 Axes>"
      ]
     },
     "metadata": {
      "needs_background": "light"
     },
     "output_type": "display_data"
    },
    {
     "data": {
      "image/png": "[encoded data removed]",
      "text/plain": [
       "<Figure size 1224x72 with 1 Axes>"
      ]
     },
     "metadata": {
      "needs_background": "light"
     },
     "output_type": "display_data"
    },
    {
     "data": {
      "image/png": "[encoded data removed]",
      "text/plain": [
       "<Figure size 1224x72 with 1 Axes>"
      ]
     },
     "metadata": {
      "needs_background": "light"
     },
     "output_type": "display_data"
    }
   ],
   "source": [
    "df1=datos_4.select_dtypes(exclude=['object'])\n",
    "for column in df1:\n",
    "        plt.figure(figsize=(17,1))\n",
    "        sns.boxplot(data=df1, x=column)"
   ]
  },
  {
   "cell_type": "code",
   "execution_count": 79,
   "id": "ca71583c",
   "metadata": {},
   "outputs": [
    {
     "data": {
      "text/html": [
       "<div>\n",
       "<style scoped>\n",
       "    .dataframe tbody tr th:only-of-type {\n",
       "        vertical-align: middle;\n",
       "    }\n",
       "\n",
       "    .dataframe tbody tr th {\n",
       "        vertical-align: top;\n",
       "    }\n",
       "\n",
       "    .dataframe thead th {\n",
       "        text-align: right;\n",
       "    }\n",
       "</style>\n",
       "<table border=\"1\" class=\"dataframe\">\n",
       "  <thead>\n",
       "    <tr style=\"text-align: right;\">\n",
       "      <th></th>\n",
       "      <th>FechaCorte</th>\n",
       "      <th>ClienteID</th>\n",
       "      <th>SegmentoDesc</th>\n",
       "      <th>SBAN</th>\n",
       "      <th>TipoDoctoIdentificacionCD</th>\n",
       "      <th>TipoPersonaDesc</th>\n",
       "      <th>NaturalezaJuridicaDesc</th>\n",
       "      <th>SexoDesc</th>\n",
       "      <th>Edad</th>\n",
       "      <th>EstadoCivilDesc</th>\n",
       "      <th>...</th>\n",
       "      <th>SaldoCDAT</th>\n",
       "      <th>SaldoTotalCartera</th>\n",
       "      <th>NumeroOperacionesCartera</th>\n",
       "      <th>NumeroProductosCaptacion</th>\n",
       "      <th>SaldoTotalCaptaciones</th>\n",
       "      <th>NumCreditosVencidos</th>\n",
       "      <th>NumeroTCVencidas</th>\n",
       "      <th>NumOperacionesCarteraVencida</th>\n",
       "      <th>SaldoTotalCarteraVencida</th>\n",
       "      <th>Regional</th>\n",
       "    </tr>\n",
       "  </thead>\n",
       "  <tbody>\n",
       "  </tbody>\n",
       "</table>\n",
       "<p>0 rows × 53 columns</p>\n",
       "</div>"
      ],
      "text/plain": [
       "Empty DataFrame\n",
       "Columns: [FechaCorte, ClienteID, SegmentoDesc, SBAN, TipoDoctoIdentificacionCD, TipoPersonaDesc, NaturalezaJuridicaDesc, SexoDesc, Edad, EstadoCivilDesc, ProfesionDesc, Cod_CIIU, ClienteFallecido, indClienteEsEmpleado, FechaVinculacionBAC, EstadoClienteDesc, TipoClienteDesc, ValorActivos, ValorEgresos, ValorIngresos, ValorOtrosingresos, ValorPatrimonio, TotalPasivos, NumCreditos, SaldoCreditos, SaldoCarteraVencida, NumeroTC, SaldoTC, SaldoTCVencido, NumeroSobregisrosUso, SaldoSobregirosUso, SaldoSobregirosVencidos, NumeroCuentasAhorroActivas, SaldoCuentasAhorroActivas, NumeroCuentasAhorroInactivas, SaldoCuentasAhorroInactivas, NumeroCuentasCorrienteActivas, SaldoCuentasCorrienteActivas, NumeroCuentascorrienteInactivas, SaldoCuentascorrienteInactivas, NumeroCDT, SaldoCDT, NumeroCDAT, SaldoCDAT, SaldoTotalCartera, NumeroOperacionesCartera, NumeroProductosCaptacion, SaldoTotalCaptaciones, NumCreditosVencidos, NumeroTCVencidas, NumOperacionesCarteraVencida, SaldoTotalCarteraVencida, Regional]\n",
       "Index: []\n",
       "\n",
       "[0 rows x 53 columns]"
      ]
     },
     "execution_count": 79,
     "metadata": {},
     "output_type": "execute_result"
    }
   ],
   "source": [
    "datos[datos.duplicated()==True]"
   ]
  },
  {
   "cell_type": "code",
   "execution_count": 80,
   "id": "2ae3239b",
   "metadata": {},
   "outputs": [],
   "source": [
    "datos=datos.drop(['FechaCorte'],axis=1)"
   ]
  },
  {
   "cell_type": "code",
   "execution_count": 81,
   "id": "e6f2caf1",
   "metadata": {},
   "outputs": [
    {
     "data": {
      "text/plain": [
       "ClienteID                          0\n",
       "SBAN                               0\n",
       "TipoDoctoIdentificacionCD          0\n",
       "NaturalezaJuridicaDesc             0\n",
       "SexoDesc                           0\n",
       "Edad                               0\n",
       "EstadoCivilDesc                    0\n",
       "ProfesionDesc                      0\n",
       "ClienteFallecido                   0\n",
       "indClienteEsEmpleado               0\n",
       "FechaVinculacionBAC                0\n",
       "EstadoClienteDesc                  0\n",
       "TipoClienteDesc                    0\n",
       "ValorActivos                       0\n",
       "ValorEgresos                       0\n",
       "ValorIngresos                      0\n",
       "ValorOtrosingresos                 0\n",
       "ValorPatrimonio                    0\n",
       "TotalPasivos                       0\n",
       "NumCreditos                        0\n",
       "SaldoCreditos                      0\n",
       "SaldoCarteraVencida                0\n",
       "NumeroTC                           0\n",
       "SaldoTC                            0\n",
       "SaldoTCVencido                     0\n",
       "NumeroSobregisrosUso               0\n",
       "SaldoSobregirosUso                 0\n",
       "SaldoSobregirosVencidos            0\n",
       "NumeroCuentasAhorroActivas         0\n",
       "SaldoCuentasAhorroActivas          0\n",
       "NumeroCuentasAhorroInactivas       0\n",
       "SaldoCuentasAhorroInactivas        0\n",
       "NumeroCuentasCorrienteActivas      0\n",
       "SaldoCuentasCorrienteActivas       0\n",
       "NumeroCuentascorrienteInactivas    0\n",
       "SaldoCuentascorrienteInactivas     0\n",
       "NumeroCDT                          0\n",
       "SaldoCDT                           0\n",
       "NumeroCDAT                         0\n",
       "SaldoCDAT                          0\n",
       "SaldoTotalCartera                  0\n",
       "NumeroOperacionesCartera           0\n",
       "NumeroProductosCaptacion           0\n",
       "SaldoTotalCaptaciones              0\n",
       "NumCreditosVencidos                0\n",
       "NumeroTCVencidas                   0\n",
       "NumOperacionesCarteraVencida       0\n",
       "SaldoTotalCarteraVencida           0\n",
       "Regional                           0\n",
       "Churn                              0\n",
       "dtype: int64"
      ]
     },
     "execution_count": 81,
     "metadata": {},
     "output_type": "execute_result"
    }
   ],
   "source": [
    "datos_4.isnull().sum()"
   ]
  },
  {
   "cell_type": "code",
   "execution_count": 82,
   "id": "7a42c596",
   "metadata": {},
   "outputs": [
    {
     "data": {
      "text/html": [
       "<div>\n",
       "<style scoped>\n",
       "    .dataframe tbody tr th:only-of-type {\n",
       "        vertical-align: middle;\n",
       "    }\n",
       "\n",
       "    .dataframe tbody tr th {\n",
       "        vertical-align: top;\n",
       "    }\n",
       "\n",
       "    .dataframe thead th {\n",
       "        text-align: right;\n",
       "    }\n",
       "</style>\n",
       "<table border=\"1\" class=\"dataframe\">\n",
       "  <thead>\n",
       "    <tr style=\"text-align: right;\">\n",
       "      <th></th>\n",
       "      <th>ClienteID</th>\n",
       "      <th>SegmentoDesc</th>\n",
       "      <th>SBAN</th>\n",
       "      <th>TipoDoctoIdentificacionCD</th>\n",
       "      <th>TipoPersonaDesc</th>\n",
       "      <th>NaturalezaJuridicaDesc</th>\n",
       "      <th>SexoDesc</th>\n",
       "      <th>Edad</th>\n",
       "      <th>EstadoCivilDesc</th>\n",
       "      <th>ProfesionDesc</th>\n",
       "      <th>...</th>\n",
       "      <th>SaldoCDAT</th>\n",
       "      <th>SaldoTotalCartera</th>\n",
       "      <th>NumeroOperacionesCartera</th>\n",
       "      <th>NumeroProductosCaptacion</th>\n",
       "      <th>SaldoTotalCaptaciones</th>\n",
       "      <th>NumCreditosVencidos</th>\n",
       "      <th>NumeroTCVencidas</th>\n",
       "      <th>NumOperacionesCarteraVencida</th>\n",
       "      <th>SaldoTotalCarteraVencida</th>\n",
       "      <th>Regional</th>\n",
       "    </tr>\n",
       "  </thead>\n",
       "  <tbody>\n",
       "    <tr>\n",
       "      <th>100622</th>\n",
       "      <td>202113758</td>\n",
       "      <td>AGROPECUARIA</td>\n",
       "      <td>6915</td>\n",
       "      <td>CC</td>\n",
       "      <td>PERSONA</td>\n",
       "      <td>NaN</td>\n",
       "      <td>MASCULINO</td>\n",
       "      <td>29.0</td>\n",
       "      <td>SOLTERO</td>\n",
       "      <td>SIN PROFESION</td>\n",
       "      <td>...</td>\n",
       "      <td>0.0</td>\n",
       "      <td>0.0</td>\n",
       "      <td>0</td>\n",
       "      <td>1</td>\n",
       "      <td>6106.0</td>\n",
       "      <td>0</td>\n",
       "      <td>0</td>\n",
       "      <td>0</td>\n",
       "      <td>0</td>\n",
       "      <td>OCCIDENTE</td>\n",
       "    </tr>\n",
       "    <tr>\n",
       "      <th>104128</th>\n",
       "      <td>184160841</td>\n",
       "      <td>AGROPECUARIA</td>\n",
       "      <td>7370</td>\n",
       "      <td>CC</td>\n",
       "      <td>PERSONA</td>\n",
       "      <td>NaN</td>\n",
       "      <td>MASCULINO</td>\n",
       "      <td>30.0</td>\n",
       "      <td>SOLTERO</td>\n",
       "      <td>SIN PROFESION</td>\n",
       "      <td>...</td>\n",
       "      <td>0.0</td>\n",
       "      <td>0.0</td>\n",
       "      <td>0</td>\n",
       "      <td>1</td>\n",
       "      <td>6346.0</td>\n",
       "      <td>0</td>\n",
       "      <td>0</td>\n",
       "      <td>0</td>\n",
       "      <td>0</td>\n",
       "      <td>BOGOTA</td>\n",
       "    </tr>\n",
       "    <tr>\n",
       "      <th>394234</th>\n",
       "      <td>201414323</td>\n",
       "      <td>AGROPECUARIA</td>\n",
       "      <td>5130</td>\n",
       "      <td>CC</td>\n",
       "      <td>PERSONA</td>\n",
       "      <td>NaN</td>\n",
       "      <td>FEMENINO</td>\n",
       "      <td>21.0</td>\n",
       "      <td>SOLTERO</td>\n",
       "      <td>INGENIERO</td>\n",
       "      <td>...</td>\n",
       "      <td>0.0</td>\n",
       "      <td>0.0</td>\n",
       "      <td>0</td>\n",
       "      <td>2</td>\n",
       "      <td>126956.0</td>\n",
       "      <td>0</td>\n",
       "      <td>0</td>\n",
       "      <td>0</td>\n",
       "      <td>0</td>\n",
       "      <td>SANTANDER</td>\n",
       "    </tr>\n",
       "    <tr>\n",
       "      <th>505138</th>\n",
       "      <td>198803886</td>\n",
       "      <td>AGROPECUARIA</td>\n",
       "      <td>1428</td>\n",
       "      <td>CC</td>\n",
       "      <td>PERSONA</td>\n",
       "      <td>NaN</td>\n",
       "      <td>MASCULINO</td>\n",
       "      <td>36.0</td>\n",
       "      <td>SOLTERO</td>\n",
       "      <td>SIN PROFESION</td>\n",
       "      <td>...</td>\n",
       "      <td>0.0</td>\n",
       "      <td>0.0</td>\n",
       "      <td>0</td>\n",
       "      <td>1</td>\n",
       "      <td>31642.6</td>\n",
       "      <td>0</td>\n",
       "      <td>0</td>\n",
       "      <td>0</td>\n",
       "      <td>0</td>\n",
       "      <td>ANTIOQUIA</td>\n",
       "    </tr>\n",
       "    <tr>\n",
       "      <th>547658</th>\n",
       "      <td>202113883</td>\n",
       "      <td>AGROPECUARIA</td>\n",
       "      <td>4230</td>\n",
       "      <td>CC</td>\n",
       "      <td>PERSONA</td>\n",
       "      <td>NaN</td>\n",
       "      <td>MASCULINO</td>\n",
       "      <td>58.0</td>\n",
       "      <td>SOLTERO</td>\n",
       "      <td>SIN PROFESION</td>\n",
       "      <td>...</td>\n",
       "      <td>0.0</td>\n",
       "      <td>0.0</td>\n",
       "      <td>0</td>\n",
       "      <td>1</td>\n",
       "      <td>3179.0</td>\n",
       "      <td>0</td>\n",
       "      <td>0</td>\n",
       "      <td>0</td>\n",
       "      <td>0</td>\n",
       "      <td>COSTA</td>\n",
       "    </tr>\n",
       "    <tr>\n",
       "      <th>554815</th>\n",
       "      <td>202099649</td>\n",
       "      <td>AGROPECUARIA</td>\n",
       "      <td>4816</td>\n",
       "      <td>CC</td>\n",
       "      <td>PERSONA</td>\n",
       "      <td>NaN</td>\n",
       "      <td>MASCULINO</td>\n",
       "      <td>28.0</td>\n",
       "      <td>SOLTERO</td>\n",
       "      <td>SIN PROFESION</td>\n",
       "      <td>...</td>\n",
       "      <td>0.0</td>\n",
       "      <td>0.0</td>\n",
       "      <td>0</td>\n",
       "      <td>1</td>\n",
       "      <td>2134639.0</td>\n",
       "      <td>0</td>\n",
       "      <td>0</td>\n",
       "      <td>0</td>\n",
       "      <td>0</td>\n",
       "      <td>OCCIDENTE</td>\n",
       "    </tr>\n",
       "    <tr>\n",
       "      <th>603425</th>\n",
       "      <td>201536463</td>\n",
       "      <td>AGROPECUARIA</td>\n",
       "      <td>360</td>\n",
       "      <td>CC</td>\n",
       "      <td>PERSONA</td>\n",
       "      <td>NaN</td>\n",
       "      <td>MASCULINO</td>\n",
       "      <td>21.0</td>\n",
       "      <td>SOLTERO</td>\n",
       "      <td>SIN PROFESION</td>\n",
       "      <td>...</td>\n",
       "      <td>0.0</td>\n",
       "      <td>0.0</td>\n",
       "      <td>0</td>\n",
       "      <td>1</td>\n",
       "      <td>8000.0</td>\n",
       "      <td>0</td>\n",
       "      <td>0</td>\n",
       "      <td>0</td>\n",
       "      <td>0</td>\n",
       "      <td>BOGOTA</td>\n",
       "    </tr>\n",
       "    <tr>\n",
       "      <th>629220</th>\n",
       "      <td>128853041</td>\n",
       "      <td>AGROPECUARIA</td>\n",
       "      <td>6921</td>\n",
       "      <td>CC</td>\n",
       "      <td>PERSONA</td>\n",
       "      <td>NaN</td>\n",
       "      <td>MASCULINO</td>\n",
       "      <td>67.0</td>\n",
       "      <td>UNION LIBRE</td>\n",
       "      <td>TECNICO PROFESIONAL - INGENIERIA, ARQUITECTURA...</td>\n",
       "      <td>...</td>\n",
       "      <td>0.0</td>\n",
       "      <td>12599389.0</td>\n",
       "      <td>1</td>\n",
       "      <td>2</td>\n",
       "      <td>1412953.0</td>\n",
       "      <td>0</td>\n",
       "      <td>0</td>\n",
       "      <td>0</td>\n",
       "      <td>0</td>\n",
       "      <td>OCCIDENTE</td>\n",
       "    </tr>\n",
       "    <tr>\n",
       "      <th>666352</th>\n",
       "      <td>140880243</td>\n",
       "      <td>AGROPECUARIA</td>\n",
       "      <td>4884</td>\n",
       "      <td>CC</td>\n",
       "      <td>PERSONA</td>\n",
       "      <td>NaN</td>\n",
       "      <td>MASCULINO</td>\n",
       "      <td>21.0</td>\n",
       "      <td>SOLTERO</td>\n",
       "      <td>SIN PROFESION</td>\n",
       "      <td>...</td>\n",
       "      <td>0.0</td>\n",
       "      <td>5000000.0</td>\n",
       "      <td>1</td>\n",
       "      <td>2</td>\n",
       "      <td>17356.0</td>\n",
       "      <td>0</td>\n",
       "      <td>0</td>\n",
       "      <td>0</td>\n",
       "      <td>0</td>\n",
       "      <td>OCCIDENTE</td>\n",
       "    </tr>\n",
       "    <tr>\n",
       "      <th>728830</th>\n",
       "      <td>201241040</td>\n",
       "      <td>AGROPECUARIA</td>\n",
       "      <td>6032</td>\n",
       "      <td>CC</td>\n",
       "      <td>PERSONA</td>\n",
       "      <td>NaN</td>\n",
       "      <td>MASCULINO</td>\n",
       "      <td>21.0</td>\n",
       "      <td>SOLTERO</td>\n",
       "      <td>INGENIERO</td>\n",
       "      <td>...</td>\n",
       "      <td>0.0</td>\n",
       "      <td>22000000.0</td>\n",
       "      <td>1</td>\n",
       "      <td>2</td>\n",
       "      <td>1349.0</td>\n",
       "      <td>0</td>\n",
       "      <td>0</td>\n",
       "      <td>0</td>\n",
       "      <td>0</td>\n",
       "      <td>SANTANDER</td>\n",
       "    </tr>\n",
       "    <tr>\n",
       "      <th>904349</th>\n",
       "      <td>138961700</td>\n",
       "      <td>AGROPECUARIA</td>\n",
       "      <td>3640</td>\n",
       "      <td>CC</td>\n",
       "      <td>PERSONA</td>\n",
       "      <td>NaN</td>\n",
       "      <td>FEMENINO</td>\n",
       "      <td>47.0</td>\n",
       "      <td>CASADO</td>\n",
       "      <td>DISENO INDUSTRIAL</td>\n",
       "      <td>...</td>\n",
       "      <td>0.0</td>\n",
       "      <td>0.0</td>\n",
       "      <td>0</td>\n",
       "      <td>1</td>\n",
       "      <td>72812.0</td>\n",
       "      <td>0</td>\n",
       "      <td>0</td>\n",
       "      <td>0</td>\n",
       "      <td>0</td>\n",
       "      <td>COSTA</td>\n",
       "    </tr>\n",
       "    <tr>\n",
       "      <th>1028181</th>\n",
       "      <td>184160805</td>\n",
       "      <td>AGROPECUARIA</td>\n",
       "      <td>70</td>\n",
       "      <td>CC</td>\n",
       "      <td>PERSONA</td>\n",
       "      <td>NaN</td>\n",
       "      <td>MASCULINO</td>\n",
       "      <td>43.0</td>\n",
       "      <td>SOLTERO</td>\n",
       "      <td>SIN PROFESION</td>\n",
       "      <td>...</td>\n",
       "      <td>0.0</td>\n",
       "      <td>0.0</td>\n",
       "      <td>0</td>\n",
       "      <td>1</td>\n",
       "      <td>3981.0</td>\n",
       "      <td>0</td>\n",
       "      <td>0</td>\n",
       "      <td>0</td>\n",
       "      <td>0</td>\n",
       "      <td>BOGOTA</td>\n",
       "    </tr>\n",
       "  </tbody>\n",
       "</table>\n",
       "<p>12 rows × 52 columns</p>\n",
       "</div>"
      ],
      "text/plain": [
       "         ClienteID  SegmentoDesc  SBAN TipoDoctoIdentificacionCD  \\\n",
       "100622   202113758  AGROPECUARIA  6915                        CC   \n",
       "104128   184160841  AGROPECUARIA  7370                        CC   \n",
       "394234   201414323  AGROPECUARIA  5130                        CC   \n",
       "505138   198803886  AGROPECUARIA  1428                        CC   \n",
       "547658   202113883  AGROPECUARIA  4230                        CC   \n",
       "554815   202099649  AGROPECUARIA  4816                        CC   \n",
       "603425   201536463  AGROPECUARIA   360                        CC   \n",
       "629220   128853041  AGROPECUARIA  6921                        CC   \n",
       "666352   140880243  AGROPECUARIA  4884                        CC   \n",
       "728830   201241040  AGROPECUARIA  6032                        CC   \n",
       "904349   138961700  AGROPECUARIA  3640                        CC   \n",
       "1028181  184160805  AGROPECUARIA    70                        CC   \n",
       "\n",
       "        TipoPersonaDesc NaturalezaJuridicaDesc   SexoDesc  Edad  \\\n",
       "100622          PERSONA                    NaN  MASCULINO  29.0   \n",
       "104128          PERSONA                    NaN  MASCULINO  30.0   \n",
       "394234          PERSONA                    NaN   FEMENINO  21.0   \n",
       "505138          PERSONA                    NaN  MASCULINO  36.0   \n",
       "547658          PERSONA                    NaN  MASCULINO  58.0   \n",
       "554815          PERSONA                    NaN  MASCULINO  28.0   \n",
       "603425          PERSONA                    NaN  MASCULINO  21.0   \n",
       "629220          PERSONA                    NaN  MASCULINO  67.0   \n",
       "666352          PERSONA                    NaN  MASCULINO  21.0   \n",
       "728830          PERSONA                    NaN  MASCULINO  21.0   \n",
       "904349          PERSONA                    NaN   FEMENINO  47.0   \n",
       "1028181         PERSONA                    NaN  MASCULINO  43.0   \n",
       "\n",
       "        EstadoCivilDesc                                      ProfesionDesc  \\\n",
       "100622          SOLTERO                                      SIN PROFESION   \n",
       "104128          SOLTERO                                      SIN PROFESION   \n",
       "394234          SOLTERO                                          INGENIERO   \n",
       "505138          SOLTERO                                      SIN PROFESION   \n",
       "547658          SOLTERO                                      SIN PROFESION   \n",
       "554815          SOLTERO                                      SIN PROFESION   \n",
       "603425          SOLTERO                                      SIN PROFESION   \n",
       "629220      UNION LIBRE  TECNICO PROFESIONAL - INGENIERIA, ARQUITECTURA...   \n",
       "666352          SOLTERO                                      SIN PROFESION   \n",
       "728830          SOLTERO                                          INGENIERO   \n",
       "904349           CASADO                                  DISENO INDUSTRIAL   \n",
       "1028181         SOLTERO                                      SIN PROFESION   \n",
       "\n",
       "         ...  SaldoCDAT SaldoTotalCartera NumeroOperacionesCartera  \\\n",
       "100622   ...        0.0               0.0                        0   \n",
       "104128   ...        0.0               0.0                        0   \n",
       "394234   ...        0.0               0.0                        0   \n",
       "505138   ...        0.0               0.0                        0   \n",
       "547658   ...        0.0               0.0                        0   \n",
       "554815   ...        0.0               0.0                        0   \n",
       "603425   ...        0.0               0.0                        0   \n",
       "629220   ...        0.0        12599389.0                        1   \n",
       "666352   ...        0.0         5000000.0                        1   \n",
       "728830   ...        0.0        22000000.0                        1   \n",
       "904349   ...        0.0               0.0                        0   \n",
       "1028181  ...        0.0               0.0                        0   \n",
       "\n",
       "        NumeroProductosCaptacion SaldoTotalCaptaciones NumCreditosVencidos  \\\n",
       "100622                         1                6106.0                   0   \n",
       "104128                         1                6346.0                   0   \n",
       "394234                         2              126956.0                   0   \n",
       "505138                         1               31642.6                   0   \n",
       "547658                         1                3179.0                   0   \n",
       "554815                         1             2134639.0                   0   \n",
       "603425                         1                8000.0                   0   \n",
       "629220                         2             1412953.0                   0   \n",
       "666352                         2               17356.0                   0   \n",
       "728830                         2                1349.0                   0   \n",
       "904349                         1               72812.0                   0   \n",
       "1028181                        1                3981.0                   0   \n",
       "\n",
       "         NumeroTCVencidas  NumOperacionesCarteraVencida  \\\n",
       "100622                  0                             0   \n",
       "104128                  0                             0   \n",
       "394234                  0                             0   \n",
       "505138                  0                             0   \n",
       "547658                  0                             0   \n",
       "554815                  0                             0   \n",
       "603425                  0                             0   \n",
       "629220                  0                             0   \n",
       "666352                  0                             0   \n",
       "728830                  0                             0   \n",
       "904349                  0                             0   \n",
       "1028181                 0                             0   \n",
       "\n",
       "         SaldoTotalCarteraVencida   Regional  \n",
       "100622                          0  OCCIDENTE  \n",
       "104128                          0     BOGOTA  \n",
       "394234                          0  SANTANDER  \n",
       "505138                          0  ANTIOQUIA  \n",
       "547658                          0      COSTA  \n",
       "554815                          0  OCCIDENTE  \n",
       "603425                          0     BOGOTA  \n",
       "629220                          0  OCCIDENTE  \n",
       "666352                          0  OCCIDENTE  \n",
       "728830                          0  SANTANDER  \n",
       "904349                          0      COSTA  \n",
       "1028181                         0     BOGOTA  \n",
       "\n",
       "[12 rows x 52 columns]"
      ]
     },
     "execution_count": 82,
     "metadata": {},
     "output_type": "execute_result"
    }
   ],
   "source": [
    "datos_nulos=datos[datos.NaturalezaJuridicaDesc.isnull()]\n",
    "datos_nulos"
   ]
  },
  {
   "cell_type": "code",
   "execution_count": 83,
   "id": "eb809846",
   "metadata": {},
   "outputs": [],
   "source": [
    "datos_4['FechaVinculacionBAC']=datos_4['FechaVinculacionBAC'].apply(pd.to_datetime)"
   ]
  },
  {
   "cell_type": "code",
   "execution_count": 84,
   "id": "d529cc9a",
   "metadata": {},
   "outputs": [
    {
     "data": {
      "text/plain": [
       "ClienteID                                   int64\n",
       "SBAN                                        int64\n",
       "TipoDoctoIdentificacionCD                  object\n",
       "NaturalezaJuridicaDesc                     object\n",
       "SexoDesc                                   object\n",
       "Edad                                      float64\n",
       "EstadoCivilDesc                            object\n",
       "ProfesionDesc                              object\n",
       "ClienteFallecido                           object\n",
       "indClienteEsEmpleado                       object\n",
       "FechaVinculacionBAC                datetime64[ns]\n",
       "EstadoClienteDesc                          object\n",
       "TipoClienteDesc                            object\n",
       "ValorActivos                              float64\n",
       "ValorEgresos                              float64\n",
       "ValorIngresos                             float64\n",
       "ValorOtrosingresos                        float64\n",
       "ValorPatrimonio                           float64\n",
       "TotalPasivos                              float64\n",
       "NumCreditos                                 int64\n",
       "SaldoCreditos                             float64\n",
       "SaldoCarteraVencida                         int64\n",
       "NumeroTC                                    int64\n",
       "SaldoTC                                   float64\n",
       "SaldoTCVencido                            float64\n",
       "NumeroSobregisrosUso                        int64\n",
       "SaldoSobregirosUso                        float64\n",
       "SaldoSobregirosVencidos                   float64\n",
       "NumeroCuentasAhorroActivas                  int64\n",
       "SaldoCuentasAhorroActivas                 float64\n",
       "NumeroCuentasAhorroInactivas                int64\n",
       "SaldoCuentasAhorroInactivas               float64\n",
       "NumeroCuentasCorrienteActivas               int64\n",
       "SaldoCuentasCorrienteActivas              float64\n",
       "NumeroCuentascorrienteInactivas             int64\n",
       "SaldoCuentascorrienteInactivas            float64\n",
       "NumeroCDT                                   int64\n",
       "SaldoCDT                                  float64\n",
       "NumeroCDAT                                  int64\n",
       "SaldoCDAT                                 float64\n",
       "SaldoTotalCartera                         float64\n",
       "NumeroOperacionesCartera                    int64\n",
       "NumeroProductosCaptacion                    int64\n",
       "SaldoTotalCaptaciones                     float64\n",
       "NumCreditosVencidos                         int64\n",
       "NumeroTCVencidas                            int64\n",
       "NumOperacionesCarteraVencida                int64\n",
       "SaldoTotalCarteraVencida                    int64\n",
       "Regional                                   object\n",
       "Churn                                       int64\n",
       "dtype: object"
      ]
     },
     "execution_count": 84,
     "metadata": {},
     "output_type": "execute_result"
    }
   ],
   "source": [
    "datos_4.dtypes"
   ]
  },
  {
   "cell_type": "code",
   "execution_count": 85,
   "id": "e3647f3c",
   "metadata": {},
   "outputs": [
    {
     "name": "stdout",
     "output_type": "stream",
     "text": [
      "Valores posibles de la variable TipoDoctoIdentificacionCD\n",
      "['CC']\n",
      "\n",
      "Valores posibles de la variable NaturalezaJuridicaDesc\n",
      "['PARTICULAR']\n",
      "Valores posibles de la variable SexoDesc\n",
      "['MASCULINO' 'FEMENINO']\n",
      "\n",
      "Valores posibles de la variable EstadoCivilDesc\n",
      "['SOLTERO' 'CASADO' 'UNION LIBRE' 'SEPARADO' 'VIUDO' 'DIVORCIADO'\n",
      " 'NO REPORTA']\n",
      "\n",
      "Valores posibles de la variable ProfesionDesc\n",
      "['SIN PROFESION' 'ZOOTECNISTA' 'AGRICULTOR' 'DOCENTE' 'AGRONOMO'\n",
      " 'GANADERO' 'TECNICO PROFESIONAL - AGRONOMIA, VETERINARIA Y AFINES'\n",
      " 'ADMINISTRADOR DEL MEDIO AMBIENTE' 'ADMINISTRADOR AGROPECUARIO'\n",
      " 'ADMINISTRADOR DE COMERCIO EXTERIOR'\n",
      " 'TECNICO PROFESIONAL - ECONOMIA, ADMINISTRACION Y CONTADURIA'\n",
      " 'ENFERMERIA' 'NO REPORTA' 'ADMINISTRADOR DE  EMPRESAS' 'INGENIERO CIVIL'\n",
      " 'ABOGADO' 'MEDICO VETERINARIO'\n",
      " 'TECNOLOGO - INGENIERIA, ARQUITECTURA, URBANISMO Y AFINES'\n",
      " 'TECNOLOGO - AGRONOMIA, VETERINARIA Y AFINES' 'INGENIERO AGRONOMICO'\n",
      " 'CONTADOR' 'ADMINISTRADOR PUBLICO' 'IDIOMAS' 'INGENIERO AGROAMBIENTAL'\n",
      " 'ARQUITECTO' 'INGENIERO DE SISTEMAS' 'ADMINISTRADOR COMERCIAL'\n",
      " 'INGENIERO MECANICO' 'ODONTOLOGO' 'PSICOLOGO' 'INGENIERO AMBIENTAL'\n",
      " 'FISIOTERAPISTA'\n",
      " 'TECNOLOGO - ECONOMIA, ADMINISTRACION, CONTADURIA Y AFINES'\n",
      " 'TECNICO PROFESIONAL - CIENCIAS DE LA SALUD' 'FARMACIA' 'LICENCIADO'\n",
      " 'GASTRONOMO Y COCINA PROFESIONAL' 'PILOTO CIVIL' 'INGENIERO AGROFORESTAL'\n",
      " 'COMUNICACION SOCIAL' 'INGENIERO ELECTRICO' 'ADMINISTRADOR INFORMATICO'\n",
      " 'QUIMICO' 'SALUD OCUPACIONAL' 'ECONOMISTA' 'ADMINISTRADOR LOGISTICO'\n",
      " 'SECRETARIA' 'PRE ESCOLAR' 'ADMINISTRADOR HOTELERO'\n",
      " 'TECNICO PROFESIONAL - INGENIERIA, ARQUITECTURA Y URBANISMO'\n",
      " 'TECNOLOGO - BELLAS ARTES' 'FONOAUDIOLOGO' 'INGENIERO AGRICOLA'\n",
      " 'DISENO INDUSTRIAL' 'ECOLOGO' 'TECNOLOGO - CIENCIAS DE LA SALUD'\n",
      " 'PUBLICISTA' 'INGENIERO ELECTRONICO'\n",
      " 'ADMINISTRADOR BANCARIO Y FINANCIERO' 'MERCADEO' 'DISENO GRAFICO'\n",
      " 'TECNICO PROFESIONAL - CIENCIAS SOCIALES, DERECHO Y POLITICA'\n",
      " 'INGENIERO INDUSTRIAL' 'INGENIERO FINANCIERO'\n",
      " 'TECNICO PROFESIONAL - CIENCIAS DE LA EDUCACION' 'TRABAJO SOCIAL'\n",
      " 'INGENIERO' 'MUSICA INSTRUMENTAL' 'DISENO DE MODAS' 'AGROLOGO'\n",
      " 'FOTOGRAFO' 'MEDICO DERMATOLOGO' 'ADMINISTRADOR DE OBRAS CIVILES'\n",
      " 'MEDICO GENERAL' 'BIOLOGO' 'FINANZAS' 'TEOLOGO' 'PERIODISTA'\n",
      " 'COMERCIO EXTERIOR' 'INGENIERO QUIMICO' 'INGENIERO DE ALIMENTOS'\n",
      " 'FILOSOFO' 'TELECOMUNICACIONES' 'TECNICO PROFESIONAL - BELLAS ARTES'\n",
      " 'GEOLOGO' 'CIENCIAS SOCIALES'\n",
      " 'TECNOLOGO - HUMANIDADES Y CIENCIAS RELIGIOSAS'\n",
      " 'INSTRUMENTACION QUIRURGICA' 'SOCIOLOGO'\n",
      " 'INGENIERO DE PRODUCCION AGRICOLA' 'GEOGRAFO' 'MILITAR'\n",
      " 'TECNOLOGO - MATEMATICAS Y CIENCIAS NATURALES' 'ANTROPOLOGO'\n",
      " 'ADMINISTRADOR EN SALUD' 'BELLAS ARTES' 'MEDICO OFTALMOLOGO'\n",
      " 'CRIMINALISTICA' 'HOTELERIA Y TURISMO'\n",
      " 'TECNOLOGO - CIENCIAS SOCIALES, DERECHO Y POLITICA' 'COSMETOLOGO'\n",
      " 'DEPORTE Y ACTIVIDAD FISICA' 'MATEMATICO' 'CINE Y TELEVISION'\n",
      " 'MICROBIOLOGIA' 'ESTADISTICO'\n",
      " 'TECNICO PROFESIONAL - MATEMATICAS Y CIENCIAS NATURALES' 'CONSTRUCCION'\n",
      " 'MEDICO PEDIATRA' 'TECNOLOGO - CIENCIAS DE LA EDUCACION' 'CIENCIAS'\n",
      " 'LENGUAS CLASICAS' 'AGROZOOTECNIO' 'NEGOCIOS INTERNACIONALES'\n",
      " 'BACTERIOLOGO' 'INGENIERO DEL MEDIO AMBIENTE' 'TERAPIA FISICA'\n",
      " 'LITERATURA' 'DECORADOR DE INTERIORES' 'INGENIERO COMERCIAL'\n",
      " 'CIENCIAS MILITARES' 'RELACIONES PUBLICAS E INSTITUCIONALES'\n",
      " 'CIENCIAS POLITICAS' 'NUTRICION Y DIETETICA' 'TERAPIA OCUPACIONAL'\n",
      " 'GERONTOLOGO' 'INGENIERO DE ACUICULTURA' 'CIENCIAS DEL DEPORTE' 'FISICO'\n",
      " 'INGENIERO ADMINISTRATIVO' 'INGENIERO CATASTRAL'\n",
      " 'MEDICO CIRUJANO PLASTICO' 'TERAPIA RESPIRATORIA' 'MEDICO OPTOMETRA'\n",
      " 'RECREACIONISTA' 'MEDICO CARDIOLOGO' 'BIOINGENIERO' 'BIBLIOTECOLOGO'\n",
      " 'MEDICO LEGAL' 'LENGUAS MODERNAS' 'MEDICO GINECOLOGO' 'HISTORIADOR'\n",
      " 'MEDICO UROLOGO' 'TRADUCCION SIMULTANEA' 'MEDICO NEUROLOGO'\n",
      " 'RELACIONES INTERNACIONALES' 'ADMINISTRADOR DEPORTIVO' 'MEDICO RADIOLOGO'\n",
      " 'MEDICO OTORRINORALINGOLOGO' 'MEDICO BACTERIOLOGO' 'INGENIERO PESQUERO']\n",
      "\n",
      "Valores posibles de la variable ClienteFallecido\n",
      "['S/D' 'Fallecido']\n",
      "\n",
      "Valores posibles de la variable EstadoClienteDesc\n",
      "['INACTIVO' 'ACTIVO']\n",
      "\n",
      "Valores posibles de la variable TipoClienteDesc\n",
      "['Cliente Comercialmente Gestionable' 'Cliente Convenio']\n",
      "\n",
      "Valores posibles de la variable Regional\n",
      "['BOGOTA' 'SANTANDER' 'SUR' 'CAFETERA']\n",
      "\n",
      "Valores posibles de la variable indClienteEsEmpleado\n",
      "['N' 'S']\n",
      "\n"
     ]
    }
   ],
   "source": [
    "#Variables categóricas\n",
    "print(\"Valores posibles de la variable TipoDoctoIdentificacionCD\")\n",
    "print(datos_4['TipoDoctoIdentificacionCD'].unique())\n",
    "print()\n",
    "print(\"Valores posibles de la variable NaturalezaJuridicaDesc\")\n",
    "print(datos_4['NaturalezaJuridicaDesc'].unique())\n",
    "print\n",
    "print(\"Valores posibles de la variable SexoDesc\")\n",
    "print(datos_4['SexoDesc'].unique())\n",
    "print()\n",
    "print(\"Valores posibles de la variable EstadoCivilDesc\")\n",
    "print(datos_4['EstadoCivilDesc'].unique())\n",
    "print()\n",
    "print(\"Valores posibles de la variable ProfesionDesc\")\n",
    "print(datos_4['ProfesionDesc'].unique())\n",
    "print()\n",
    "print(\"Valores posibles de la variable ClienteFallecido\")\n",
    "print(datos_4['ClienteFallecido'].unique())\n",
    "print()\n",
    "print(\"Valores posibles de la variable EstadoClienteDesc\")\n",
    "print(datos_4['EstadoClienteDesc'].unique())\n",
    "print()\n",
    "print(\"Valores posibles de la variable TipoClienteDesc\")\n",
    "print(datos_4['TipoClienteDesc'].unique())\n",
    "print()\n",
    "print(\"Valores posibles de la variable Regional\")\n",
    "print(datos_4['Regional'].unique())\n",
    "print()\n",
    "print(\"Valores posibles de la variable indClienteEsEmpleado\")\n",
    "print(datos_4['indClienteEsEmpleado'].unique())\n",
    "print()"
   ]
  },
  {
   "cell_type": "code",
   "execution_count": 86,
   "id": "6eaaa1f0",
   "metadata": {},
   "outputs": [],
   "source": [
    "prof_1=['SIN PROFESION','ZOOTECNISTA','AGRICULTOR','DOCENTE','AGRONOMO','GANADERO','ADMINISTRADOR DEL MEDIO AMBIENTE',\n",
    "        'ADMINISTRADOR AGROPECUARIO','AGROLOGO']\n",
    "prof_2=['TECNICO PROFESIONAL - AGRONOMIA, VETERINARIA Y AFINES','TECNICO PROFESIONAL - ECONOMIA, ADMINISTRACION Y CONTADURIA',\n",
    "        'TECNOLOGO - INGENIERIA, ARQUITECTURA, URBANISMO Y AFINES','TECNOLOGO - AGRONOMIA, VETERINARIA Y AFINES',\n",
    "        'TECNOLOGO - ECONOMIA, ADMINISTRACION, CONTADURIA Y AFINES','TECNICO PROFESIONAL - CIENCIAS DE LA SALUD', \n",
    "        'PILOTO CIVIL','TECNICO PROFESIONAL - INGENIERIA, ARQUITECTURA Y URBANISMO','TECNOLOGO - BELLAS ARTES', \n",
    "        'TECNOLOGO - CIENCIAS DE LA SALUD','TECNICO PROFESIONAL - CIENCIAS SOCIALES, DERECHO Y POLITICA',\n",
    "        'TECNICO PROFESIONAL - CIENCIAS DE LA EDUCACION','TECNICO PROFESIONAL - BELLAS ARTES',\n",
    "        'TECNOLOGO - HUMANIDADES Y CIENCIAS RELIGIOSAS','TECNOLOGO - CIENCIAS SOCIALES, DERECHO Y POLITICA',\n",
    "        'TECNICO PROFESIONAL - MATEMATICAS Y CIENCIAS NATURALES','TECNOLOGO - CIENCIAS DE LA EDUCACION','TECNOLOGO - MATEMATICAS Y CIENCIAS NATURALES']\n",
    "prof_3=['MEDICO VETERINARIO','ODONTOLOGO', 'PSICOLOGO','FISIOTERAPISTA', 'FARMACIA','SALUD OCUPACIONAL',      \n",
    "       'MEDICO DERMATOLOGO','MEDICO GENERAL','INSTRUMENTACION QUIRURGICA','ADMINISTRADOR EN SALUD','MEDICO OFTALMOLOGO',\n",
    "       'COSMETOLOGO','MICROBIOLOGIA','MEDICO PEDIATRA','BACTERIOLOGO','TERAPIA FISICA','NUTRICION Y DIETETICA',\n",
    "       'TERAPIA OCUPACIONAL', 'MEDICO CIRUJANO PLASTICO','TERAPIA RESPIRATORIA', 'MEDICO OPTOMETRA','MEDICO CARDIOLOGO', \n",
    "       'BIOINGENIERO','MEDICO LEGAL', 'MEDICO GINECOLOGO','MEDICO UROLOGO', 'TRADUCCION SIMULTANEA','MEDICO NEUROLOGO',\n",
    "       'MEDICO RADIOLOGO','MEDICO OTORRINORALINGOLOGO', 'MEDICO BACTERIOLOGO','ENFERMERIA','FONOAUDIOLOGO']\n",
    "prof_4=['ADMINISTRADOR DE COMERCIO EXTERIOR','ADMINISTRADOR DE  EMPRESAS', 'ABOGADO','CONTADOR','ADMINISTRADOR PUBLICO','IDIOMAS',\n",
    "'ADMINISTRADOR COMERCIAL','LICENCIADO','GASTRONOMO Y COCINA PROFESIONAL','COMUNICACION SOCIAL','ADMINISTRADOR INFORMATICO', \n",
    "'QUIMICO', 'ECONOMISTA','ADMINISTRADOR LOGISTICO', 'SECRETARIA', 'PRE ESCOLAR','ADMINISTRADOR HOTELERO','DISENO INDUSTRIAL', \n",
    "'ECOLOGO', 'PUBLICISTA','ADMINISTRADOR BANCARIO Y FINANCIERO','MERCADEO', 'DISENO GRAFICO','TRABAJO SOCIAL',\n",
    "'MUSICA INSTRUMENTAL', 'DISENO DE MODAS', 'FOTOGRAFO','ADMINISTRADOR DE OBRAS CIVILES', 'BIOLOGO', 'FINANZAS', 'TEOLOGO',\n",
    "'PERIODISTA', 'COMERCIO EXTERIOR', 'FILOSOFO', 'TELECOMUNICACIONES','GEOLOGO', 'CIENCIAS SOCIALES', 'SOCIOLOGO','GEOGRAFO', \n",
    "'MILITAR','ANTROPOLOGO', 'BELLAS ARTES', 'CRIMINALISTICA','HOTELERIA Y TURISMO', 'DEPORTE Y ACTIVIDAD FISICA', 'MATEMATICO',\n",
    "'CINE Y TELEVISION', 'ESTADISTICO','CIENCIAS','LENGUAS CLASICAS', 'AGROZOOTECNIO', 'NEGOCIOS INTERNACIONALES','LITERATURA',\n",
    "'DECORADOR DE INTERIORES','CIENCIAS MILITARES', 'RELACIONES PUBLICAS E INSTITUCIONALES','CIENCIAS POLITICAS', 'GERONTOLOGO',\n",
    "'CIENCIAS DEL DEPORTE','FISICO','RECREACIONISTA','BIBLIOTECOLOGO','LENGUAS MODERNAS', 'HISTORIADOR','RELACIONES INTERNACIONALES',\n",
    "'ADMINISTRADOR DEPORTIVO']\n",
    "prof_5=['INGENIERO CIVIL', 'INGENIERO AGRONOMICO','INGENIERO AGROAMBIENTAL','ARQUITECTO', 'INGENIERO DE SISTEMAS','INGENIERO MECANICO', 'INGENIERO AMBIENTAL',\n",
    "    'INGENIERO AGROFORESTAL', 'INGENIERO ELECTRICO','INGENIERO AGRICOLA', 'INGENIERO ELECTRONICO',\n",
    "    'INGENIERO INDUSTRIAL', 'INGENIERO FINANCIERO', 'INGENIERO','INGENIERO QUIMICO', 'INGENIERO DE ALIMENTOS',\n",
    "    'INGENIERO DE PRODUCCION AGRICOLA', 'CONSTRUCCION','INGENIERO DEL MEDIO AMBIENTE', 'INGENIERO COMERCIAL',\n",
    "    'INGENIERO DE ACUICULTURA', 'INGENIERO ADMINISTRATIVO','INGENIERO CATASTRAL', 'INGENIERO PESQUERO']"
   ]
  },
  {
   "cell_type": "code",
   "execution_count": 87,
   "id": "6f33faf4",
   "metadata": {},
   "outputs": [],
   "source": [
    "for indice in range(0, len(prof_1)):\n",
    "    datos_4.ProfesionDesc=datos_4.ProfesionDesc.replace({prof_1[indice]:'AGRICOLA'})\n",
    "for indice in range(0, len(prof_2)):\n",
    "    datos_4.ProfesionDesc=datos_4.ProfesionDesc.replace({prof_2[indice]:'TECNICO-TECNLOGO'})\n",
    "for indice in range(0, len(prof_3)):\n",
    "    datos_4.ProfesionDesc=datos_4.ProfesionDesc.replace({prof_3[indice]:'SALUD Y AFINES'})\n",
    "for indice in range(0, len(prof_4)):\n",
    "    datos_4.ProfesionDesc=datos_4.ProfesionDesc.replace({prof_4[indice]:'ADMINISTRACIÓN, CIENCIAS Y AFINES'})\n",
    "for indice in range(0, len(prof_5)):\n",
    "    datos_4.ProfesionDesc=datos_4.ProfesionDesc.replace({prof_5[indice]:'INGENIERIA Y AFINES'})"
   ]
  },
  {
   "cell_type": "code",
   "execution_count": 88,
   "id": "195b0f78",
   "metadata": {},
   "outputs": [],
   "source": [
    "#Se reemplazan las variables categóricas por valores númericos\n",
    "datos_4['Year'] = datos_4['FechaVinculacionBAC'].dt.year\n",
    "df5=datos_4\n",
    "df5['SexoDesc']=df5['SexoDesc'].map({'MASCULINO':0, 'FEMENINO':1})\n",
    "\n",
    "df5['EstadoCivilDesc']=df5['EstadoCivilDesc'].map({'SOLTERO':0, 'CASADO':1, 'UNION LIBRE':2, 'SEPARADO':3, 'VIUDO':5, 'DIVORCIADO':6,'NO REPORTA':7})\n",
    "\n",
    "df5['ProfesionDesc']=df5['ProfesionDesc'].map({'SIN PROFESION':0, 'AGRICOLA':1,'INGENIERIA Y AFINES':2,'TECNICO-TECNLOGO':3,\n",
    "                                               'SALUD Y AFINES':4,'ADMINISTRACIÓN, CIENCIAS Y AFINES':5})\n",
    "\n",
    "df5['indClienteEsEmpleado']=df5['indClienteEsEmpleado'].map({'N':0, 'S':1})\n",
    "\n",
    "df5['TipoClienteDesc']=df5['TipoClienteDesc'].map({'Cliente Comercialmente Gestionable':0, 'Cliente Convenio':1})\n",
    "\n",
    "df5['Regional']=df5['Regional'].map({'BOGOTA':0, 'SANTANDER':1, 'SUR':2, 'CAFETERA':3})"
   ]
  },
  {
   "cell_type": "code",
   "execution_count": 89,
   "id": "5267b85d",
   "metadata": {},
   "outputs": [],
   "source": [
    "new_df=df5[df5['Year']>=2019]"
   ]
  },
  {
   "cell_type": "code",
   "execution_count": 90,
   "id": "6b48c67f",
   "metadata": {},
   "outputs": [
    {
     "data": {
      "text/html": [
       "<div>\n",
       "<style scoped>\n",
       "    .dataframe tbody tr th:only-of-type {\n",
       "        vertical-align: middle;\n",
       "    }\n",
       "\n",
       "    .dataframe tbody tr th {\n",
       "        vertical-align: top;\n",
       "    }\n",
       "\n",
       "    .dataframe thead th {\n",
       "        text-align: right;\n",
       "    }\n",
       "</style>\n",
       "<table border=\"1\" class=\"dataframe\">\n",
       "  <thead>\n",
       "    <tr style=\"text-align: right;\">\n",
       "      <th></th>\n",
       "      <th>ClienteID</th>\n",
       "      <th>SBAN</th>\n",
       "      <th>TipoDoctoIdentificacionCD</th>\n",
       "      <th>NaturalezaJuridicaDesc</th>\n",
       "      <th>SexoDesc</th>\n",
       "      <th>Edad</th>\n",
       "      <th>EstadoCivilDesc</th>\n",
       "      <th>ProfesionDesc</th>\n",
       "      <th>ClienteFallecido</th>\n",
       "      <th>indClienteEsEmpleado</th>\n",
       "      <th>...</th>\n",
       "      <th>NumeroOperacionesCartera</th>\n",
       "      <th>NumeroProductosCaptacion</th>\n",
       "      <th>SaldoTotalCaptaciones</th>\n",
       "      <th>NumCreditosVencidos</th>\n",
       "      <th>NumeroTCVencidas</th>\n",
       "      <th>NumOperacionesCarteraVencida</th>\n",
       "      <th>SaldoTotalCarteraVencida</th>\n",
       "      <th>Regional</th>\n",
       "      <th>Churn</th>\n",
       "      <th>Year</th>\n",
       "    </tr>\n",
       "  </thead>\n",
       "  <tbody>\n",
       "    <tr>\n",
       "      <th>7</th>\n",
       "      <td>202348085</td>\n",
       "      <td>820</td>\n",
       "      <td>CC</td>\n",
       "      <td>PARTICULAR</td>\n",
       "      <td>1</td>\n",
       "      <td>43.0</td>\n",
       "      <td>0</td>\n",
       "      <td>1.0</td>\n",
       "      <td>S/D</td>\n",
       "      <td>0</td>\n",
       "      <td>...</td>\n",
       "      <td>0</td>\n",
       "      <td>1</td>\n",
       "      <td>16336.0</td>\n",
       "      <td>0</td>\n",
       "      <td>0</td>\n",
       "      <td>0</td>\n",
       "      <td>0</td>\n",
       "      <td>0</td>\n",
       "      <td>1</td>\n",
       "      <td>2020</td>\n",
       "    </tr>\n",
       "    <tr>\n",
       "      <th>63</th>\n",
       "      <td>203247512</td>\n",
       "      <td>4525</td>\n",
       "      <td>CC</td>\n",
       "      <td>PARTICULAR</td>\n",
       "      <td>0</td>\n",
       "      <td>47.0</td>\n",
       "      <td>0</td>\n",
       "      <td>1.0</td>\n",
       "      <td>S/D</td>\n",
       "      <td>0</td>\n",
       "      <td>...</td>\n",
       "      <td>0</td>\n",
       "      <td>1</td>\n",
       "      <td>2458249.0</td>\n",
       "      <td>0</td>\n",
       "      <td>0</td>\n",
       "      <td>0</td>\n",
       "      <td>0</td>\n",
       "      <td>0</td>\n",
       "      <td>0</td>\n",
       "      <td>2020</td>\n",
       "    </tr>\n",
       "    <tr>\n",
       "      <th>77</th>\n",
       "      <td>198720992</td>\n",
       "      <td>910</td>\n",
       "      <td>CC</td>\n",
       "      <td>PARTICULAR</td>\n",
       "      <td>1</td>\n",
       "      <td>55.0</td>\n",
       "      <td>1</td>\n",
       "      <td>1.0</td>\n",
       "      <td>S/D</td>\n",
       "      <td>0</td>\n",
       "      <td>...</td>\n",
       "      <td>2</td>\n",
       "      <td>1</td>\n",
       "      <td>1.0</td>\n",
       "      <td>0</td>\n",
       "      <td>0</td>\n",
       "      <td>0</td>\n",
       "      <td>0</td>\n",
       "      <td>0</td>\n",
       "      <td>0</td>\n",
       "      <td>2019</td>\n",
       "    </tr>\n",
       "    <tr>\n",
       "      <th>153</th>\n",
       "      <td>203331629</td>\n",
       "      <td>6654</td>\n",
       "      <td>CC</td>\n",
       "      <td>PARTICULAR</td>\n",
       "      <td>1</td>\n",
       "      <td>19.0</td>\n",
       "      <td>0</td>\n",
       "      <td>1.0</td>\n",
       "      <td>S/D</td>\n",
       "      <td>0</td>\n",
       "      <td>...</td>\n",
       "      <td>0</td>\n",
       "      <td>1</td>\n",
       "      <td>6000000.0</td>\n",
       "      <td>0</td>\n",
       "      <td>0</td>\n",
       "      <td>0</td>\n",
       "      <td>0</td>\n",
       "      <td>2</td>\n",
       "      <td>1</td>\n",
       "      <td>2020</td>\n",
       "    </tr>\n",
       "    <tr>\n",
       "      <th>192</th>\n",
       "      <td>199378897</td>\n",
       "      <td>6619</td>\n",
       "      <td>CC</td>\n",
       "      <td>PARTICULAR</td>\n",
       "      <td>1</td>\n",
       "      <td>21.0</td>\n",
       "      <td>0</td>\n",
       "      <td>1.0</td>\n",
       "      <td>S/D</td>\n",
       "      <td>0</td>\n",
       "      <td>...</td>\n",
       "      <td>1</td>\n",
       "      <td>1</td>\n",
       "      <td>10077.0</td>\n",
       "      <td>0</td>\n",
       "      <td>0</td>\n",
       "      <td>0</td>\n",
       "      <td>0</td>\n",
       "      <td>2</td>\n",
       "      <td>1</td>\n",
       "      <td>2019</td>\n",
       "    </tr>\n",
       "    <tr>\n",
       "      <th>...</th>\n",
       "      <td>...</td>\n",
       "      <td>...</td>\n",
       "      <td>...</td>\n",
       "      <td>...</td>\n",
       "      <td>...</td>\n",
       "      <td>...</td>\n",
       "      <td>...</td>\n",
       "      <td>...</td>\n",
       "      <td>...</td>\n",
       "      <td>...</td>\n",
       "      <td>...</td>\n",
       "      <td>...</td>\n",
       "      <td>...</td>\n",
       "      <td>...</td>\n",
       "      <td>...</td>\n",
       "      <td>...</td>\n",
       "      <td>...</td>\n",
       "      <td>...</td>\n",
       "      <td>...</td>\n",
       "      <td>...</td>\n",
       "      <td>...</td>\n",
       "    </tr>\n",
       "    <tr>\n",
       "      <th>1050503</th>\n",
       "      <td>197289764</td>\n",
       "      <td>6026</td>\n",
       "      <td>CC</td>\n",
       "      <td>PARTICULAR</td>\n",
       "      <td>0</td>\n",
       "      <td>26.0</td>\n",
       "      <td>0</td>\n",
       "      <td>3.0</td>\n",
       "      <td>S/D</td>\n",
       "      <td>0</td>\n",
       "      <td>...</td>\n",
       "      <td>1</td>\n",
       "      <td>1</td>\n",
       "      <td>66791.0</td>\n",
       "      <td>0</td>\n",
       "      <td>0</td>\n",
       "      <td>0</td>\n",
       "      <td>0</td>\n",
       "      <td>1</td>\n",
       "      <td>0</td>\n",
       "      <td>2019</td>\n",
       "    </tr>\n",
       "    <tr>\n",
       "      <th>1050514</th>\n",
       "      <td>198548762</td>\n",
       "      <td>6017</td>\n",
       "      <td>CC</td>\n",
       "      <td>PARTICULAR</td>\n",
       "      <td>1</td>\n",
       "      <td>25.0</td>\n",
       "      <td>0</td>\n",
       "      <td>3.0</td>\n",
       "      <td>S/D</td>\n",
       "      <td>0</td>\n",
       "      <td>...</td>\n",
       "      <td>1</td>\n",
       "      <td>1</td>\n",
       "      <td>1811912.0</td>\n",
       "      <td>0</td>\n",
       "      <td>0</td>\n",
       "      <td>0</td>\n",
       "      <td>0</td>\n",
       "      <td>1</td>\n",
       "      <td>0</td>\n",
       "      <td>2019</td>\n",
       "    </tr>\n",
       "    <tr>\n",
       "      <th>1050547</th>\n",
       "      <td>197995774</td>\n",
       "      <td>3114</td>\n",
       "      <td>CC</td>\n",
       "      <td>PARTICULAR</td>\n",
       "      <td>0</td>\n",
       "      <td>59.0</td>\n",
       "      <td>0</td>\n",
       "      <td>1.0</td>\n",
       "      <td>S/D</td>\n",
       "      <td>0</td>\n",
       "      <td>...</td>\n",
       "      <td>1</td>\n",
       "      <td>1</td>\n",
       "      <td>583981.0</td>\n",
       "      <td>0</td>\n",
       "      <td>0</td>\n",
       "      <td>0</td>\n",
       "      <td>0</td>\n",
       "      <td>0</td>\n",
       "      <td>0</td>\n",
       "      <td>2019</td>\n",
       "    </tr>\n",
       "    <tr>\n",
       "      <th>1050666</th>\n",
       "      <td>202486934</td>\n",
       "      <td>6064</td>\n",
       "      <td>CC</td>\n",
       "      <td>PARTICULAR</td>\n",
       "      <td>0</td>\n",
       "      <td>39.0</td>\n",
       "      <td>1</td>\n",
       "      <td>1.0</td>\n",
       "      <td>S/D</td>\n",
       "      <td>0</td>\n",
       "      <td>...</td>\n",
       "      <td>1</td>\n",
       "      <td>1</td>\n",
       "      <td>3474.0</td>\n",
       "      <td>0</td>\n",
       "      <td>0</td>\n",
       "      <td>0</td>\n",
       "      <td>0</td>\n",
       "      <td>1</td>\n",
       "      <td>0</td>\n",
       "      <td>2020</td>\n",
       "    </tr>\n",
       "    <tr>\n",
       "      <th>1050707</th>\n",
       "      <td>197400166</td>\n",
       "      <td>5765</td>\n",
       "      <td>CC</td>\n",
       "      <td>PARTICULAR</td>\n",
       "      <td>0</td>\n",
       "      <td>31.0</td>\n",
       "      <td>2</td>\n",
       "      <td>1.0</td>\n",
       "      <td>S/D</td>\n",
       "      <td>0</td>\n",
       "      <td>...</td>\n",
       "      <td>1</td>\n",
       "      <td>1</td>\n",
       "      <td>3538.6</td>\n",
       "      <td>0</td>\n",
       "      <td>0</td>\n",
       "      <td>0</td>\n",
       "      <td>0</td>\n",
       "      <td>3</td>\n",
       "      <td>0</td>\n",
       "      <td>2019</td>\n",
       "    </tr>\n",
       "  </tbody>\n",
       "</table>\n",
       "<p>27963 rows × 51 columns</p>\n",
       "</div>"
      ],
      "text/plain": [
       "         ClienteID  SBAN TipoDoctoIdentificacionCD NaturalezaJuridicaDesc  \\\n",
       "7        202348085   820                        CC             PARTICULAR   \n",
       "63       203247512  4525                        CC             PARTICULAR   \n",
       "77       198720992   910                        CC             PARTICULAR   \n",
       "153      203331629  6654                        CC             PARTICULAR   \n",
       "192      199378897  6619                        CC             PARTICULAR   \n",
       "...            ...   ...                       ...                    ...   \n",
       "1050503  197289764  6026                        CC             PARTICULAR   \n",
       "1050514  198548762  6017                        CC             PARTICULAR   \n",
       "1050547  197995774  3114                        CC             PARTICULAR   \n",
       "1050666  202486934  6064                        CC             PARTICULAR   \n",
       "1050707  197400166  5765                        CC             PARTICULAR   \n",
       "\n",
       "         SexoDesc  Edad  EstadoCivilDesc  ProfesionDesc ClienteFallecido  \\\n",
       "7               1  43.0                0            1.0              S/D   \n",
       "63              0  47.0                0            1.0              S/D   \n",
       "77              1  55.0                1            1.0              S/D   \n",
       "153             1  19.0                0            1.0              S/D   \n",
       "192             1  21.0                0            1.0              S/D   \n",
       "...           ...   ...              ...            ...              ...   \n",
       "1050503         0  26.0                0            3.0              S/D   \n",
       "1050514         1  25.0                0            3.0              S/D   \n",
       "1050547         0  59.0                0            1.0              S/D   \n",
       "1050666         0  39.0                1            1.0              S/D   \n",
       "1050707         0  31.0                2            1.0              S/D   \n",
       "\n",
       "         indClienteEsEmpleado  ... NumeroOperacionesCartera  \\\n",
       "7                           0  ...                        0   \n",
       "63                          0  ...                        0   \n",
       "77                          0  ...                        2   \n",
       "153                         0  ...                        0   \n",
       "192                         0  ...                        1   \n",
       "...                       ...  ...                      ...   \n",
       "1050503                     0  ...                        1   \n",
       "1050514                     0  ...                        1   \n",
       "1050547                     0  ...                        1   \n",
       "1050666                     0  ...                        1   \n",
       "1050707                     0  ...                        1   \n",
       "\n",
       "        NumeroProductosCaptacion  SaldoTotalCaptaciones  NumCreditosVencidos  \\\n",
       "7                              1                16336.0                    0   \n",
       "63                             1              2458249.0                    0   \n",
       "77                             1                    1.0                    0   \n",
       "153                            1              6000000.0                    0   \n",
       "192                            1                10077.0                    0   \n",
       "...                          ...                    ...                  ...   \n",
       "1050503                        1                66791.0                    0   \n",
       "1050514                        1              1811912.0                    0   \n",
       "1050547                        1               583981.0                    0   \n",
       "1050666                        1                 3474.0                    0   \n",
       "1050707                        1                 3538.6                    0   \n",
       "\n",
       "         NumeroTCVencidas  NumOperacionesCarteraVencida  \\\n",
       "7                       0                             0   \n",
       "63                      0                             0   \n",
       "77                      0                             0   \n",
       "153                     0                             0   \n",
       "192                     0                             0   \n",
       "...                   ...                           ...   \n",
       "1050503                 0                             0   \n",
       "1050514                 0                             0   \n",
       "1050547                 0                             0   \n",
       "1050666                 0                             0   \n",
       "1050707                 0                             0   \n",
       "\n",
       "         SaldoTotalCarteraVencida  Regional  Churn  Year  \n",
       "7                               0         0      1  2020  \n",
       "63                              0         0      0  2020  \n",
       "77                              0         0      0  2019  \n",
       "153                             0         2      1  2020  \n",
       "192                             0         2      1  2019  \n",
       "...                           ...       ...    ...   ...  \n",
       "1050503                         0         1      0  2019  \n",
       "1050514                         0         1      0  2019  \n",
       "1050547                         0         0      0  2019  \n",
       "1050666                         0         1      0  2020  \n",
       "1050707                         0         3      0  2019  \n",
       "\n",
       "[27963 rows x 51 columns]"
      ]
     },
     "execution_count": 90,
     "metadata": {},
     "output_type": "execute_result"
    }
   ],
   "source": [
    "new_df"
   ]
  },
  {
   "cell_type": "code",
   "execution_count": 91,
   "id": "19a6e18f",
   "metadata": {},
   "outputs": [
    {
     "data": {
      "text/html": [
       "<div>\n",
       "<style scoped>\n",
       "    .dataframe tbody tr th:only-of-type {\n",
       "        vertical-align: middle;\n",
       "    }\n",
       "\n",
       "    .dataframe tbody tr th {\n",
       "        vertical-align: top;\n",
       "    }\n",
       "\n",
       "    .dataframe thead th {\n",
       "        text-align: right;\n",
       "    }\n",
       "</style>\n",
       "<table border=\"1\" class=\"dataframe\">\n",
       "  <thead>\n",
       "    <tr style=\"text-align: right;\">\n",
       "      <th></th>\n",
       "      <th>SexoDesc</th>\n",
       "      <th>Edad</th>\n",
       "      <th>EstadoCivilDesc</th>\n",
       "      <th>ProfesionDesc</th>\n",
       "      <th>indClienteEsEmpleado</th>\n",
       "      <th>TipoClienteDesc</th>\n",
       "      <th>ValorActivos</th>\n",
       "      <th>ValorEgresos</th>\n",
       "      <th>ValorIngresos</th>\n",
       "      <th>ValorOtrosingresos</th>\n",
       "      <th>...</th>\n",
       "      <th>NumeroOperacionesCartera</th>\n",
       "      <th>NumeroProductosCaptacion</th>\n",
       "      <th>SaldoTotalCaptaciones</th>\n",
       "      <th>NumCreditosVencidos</th>\n",
       "      <th>NumeroTCVencidas</th>\n",
       "      <th>NumOperacionesCarteraVencida</th>\n",
       "      <th>SaldoTotalCarteraVencida</th>\n",
       "      <th>Regional</th>\n",
       "      <th>Churn</th>\n",
       "      <th>Year</th>\n",
       "    </tr>\n",
       "  </thead>\n",
       "  <tbody>\n",
       "    <tr>\n",
       "      <th>7</th>\n",
       "      <td>1</td>\n",
       "      <td>43.0</td>\n",
       "      <td>0</td>\n",
       "      <td>1.0</td>\n",
       "      <td>0</td>\n",
       "      <td>0</td>\n",
       "      <td>110000000.0</td>\n",
       "      <td>1200000.0</td>\n",
       "      <td>3000000.0</td>\n",
       "      <td>0.0</td>\n",
       "      <td>...</td>\n",
       "      <td>0</td>\n",
       "      <td>1</td>\n",
       "      <td>16336.0</td>\n",
       "      <td>0</td>\n",
       "      <td>0</td>\n",
       "      <td>0</td>\n",
       "      <td>0</td>\n",
       "      <td>0</td>\n",
       "      <td>1</td>\n",
       "      <td>2020</td>\n",
       "    </tr>\n",
       "    <tr>\n",
       "      <th>63</th>\n",
       "      <td>0</td>\n",
       "      <td>47.0</td>\n",
       "      <td>0</td>\n",
       "      <td>1.0</td>\n",
       "      <td>0</td>\n",
       "      <td>0</td>\n",
       "      <td>5000000.0</td>\n",
       "      <td>150000.0</td>\n",
       "      <td>877803.0</td>\n",
       "      <td>0.0</td>\n",
       "      <td>...</td>\n",
       "      <td>0</td>\n",
       "      <td>1</td>\n",
       "      <td>2458249.0</td>\n",
       "      <td>0</td>\n",
       "      <td>0</td>\n",
       "      <td>0</td>\n",
       "      <td>0</td>\n",
       "      <td>0</td>\n",
       "      <td>0</td>\n",
       "      <td>2020</td>\n",
       "    </tr>\n",
       "    <tr>\n",
       "      <th>77</th>\n",
       "      <td>1</td>\n",
       "      <td>55.0</td>\n",
       "      <td>1</td>\n",
       "      <td>1.0</td>\n",
       "      <td>0</td>\n",
       "      <td>0</td>\n",
       "      <td>401130000.0</td>\n",
       "      <td>25416000.0</td>\n",
       "      <td>31563333.0</td>\n",
       "      <td>0.0</td>\n",
       "      <td>...</td>\n",
       "      <td>2</td>\n",
       "      <td>1</td>\n",
       "      <td>1.0</td>\n",
       "      <td>0</td>\n",
       "      <td>0</td>\n",
       "      <td>0</td>\n",
       "      <td>0</td>\n",
       "      <td>0</td>\n",
       "      <td>0</td>\n",
       "      <td>2019</td>\n",
       "    </tr>\n",
       "    <tr>\n",
       "      <th>153</th>\n",
       "      <td>1</td>\n",
       "      <td>19.0</td>\n",
       "      <td>0</td>\n",
       "      <td>1.0</td>\n",
       "      <td>0</td>\n",
       "      <td>0</td>\n",
       "      <td>30000000.0</td>\n",
       "      <td>500000.0</td>\n",
       "      <td>2200000.0</td>\n",
       "      <td>0.0</td>\n",
       "      <td>...</td>\n",
       "      <td>0</td>\n",
       "      <td>1</td>\n",
       "      <td>6000000.0</td>\n",
       "      <td>0</td>\n",
       "      <td>0</td>\n",
       "      <td>0</td>\n",
       "      <td>0</td>\n",
       "      <td>2</td>\n",
       "      <td>1</td>\n",
       "      <td>2020</td>\n",
       "    </tr>\n",
       "    <tr>\n",
       "      <th>192</th>\n",
       "      <td>1</td>\n",
       "      <td>21.0</td>\n",
       "      <td>0</td>\n",
       "      <td>1.0</td>\n",
       "      <td>0</td>\n",
       "      <td>0</td>\n",
       "      <td>58200000.0</td>\n",
       "      <td>380000.0</td>\n",
       "      <td>2900000.0</td>\n",
       "      <td>0.0</td>\n",
       "      <td>...</td>\n",
       "      <td>1</td>\n",
       "      <td>1</td>\n",
       "      <td>10077.0</td>\n",
       "      <td>0</td>\n",
       "      <td>0</td>\n",
       "      <td>0</td>\n",
       "      <td>0</td>\n",
       "      <td>2</td>\n",
       "      <td>1</td>\n",
       "      <td>2019</td>\n",
       "    </tr>\n",
       "    <tr>\n",
       "      <th>...</th>\n",
       "      <td>...</td>\n",
       "      <td>...</td>\n",
       "      <td>...</td>\n",
       "      <td>...</td>\n",
       "      <td>...</td>\n",
       "      <td>...</td>\n",
       "      <td>...</td>\n",
       "      <td>...</td>\n",
       "      <td>...</td>\n",
       "      <td>...</td>\n",
       "      <td>...</td>\n",
       "      <td>...</td>\n",
       "      <td>...</td>\n",
       "      <td>...</td>\n",
       "      <td>...</td>\n",
       "      <td>...</td>\n",
       "      <td>...</td>\n",
       "      <td>...</td>\n",
       "      <td>...</td>\n",
       "      <td>...</td>\n",
       "      <td>...</td>\n",
       "    </tr>\n",
       "    <tr>\n",
       "      <th>1050503</th>\n",
       "      <td>0</td>\n",
       "      <td>26.0</td>\n",
       "      <td>0</td>\n",
       "      <td>3.0</td>\n",
       "      <td>0</td>\n",
       "      <td>0</td>\n",
       "      <td>30000000.0</td>\n",
       "      <td>750000.0</td>\n",
       "      <td>2000000.0</td>\n",
       "      <td>0.0</td>\n",
       "      <td>...</td>\n",
       "      <td>1</td>\n",
       "      <td>1</td>\n",
       "      <td>66791.0</td>\n",
       "      <td>0</td>\n",
       "      <td>0</td>\n",
       "      <td>0</td>\n",
       "      <td>0</td>\n",
       "      <td>1</td>\n",
       "      <td>0</td>\n",
       "      <td>2019</td>\n",
       "    </tr>\n",
       "    <tr>\n",
       "      <th>1050514</th>\n",
       "      <td>1</td>\n",
       "      <td>25.0</td>\n",
       "      <td>0</td>\n",
       "      <td>3.0</td>\n",
       "      <td>0</td>\n",
       "      <td>0</td>\n",
       "      <td>60000000.0</td>\n",
       "      <td>600000.0</td>\n",
       "      <td>2900000.0</td>\n",
       "      <td>0.0</td>\n",
       "      <td>...</td>\n",
       "      <td>1</td>\n",
       "      <td>1</td>\n",
       "      <td>1811912.0</td>\n",
       "      <td>0</td>\n",
       "      <td>0</td>\n",
       "      <td>0</td>\n",
       "      <td>0</td>\n",
       "      <td>1</td>\n",
       "      <td>0</td>\n",
       "      <td>2019</td>\n",
       "    </tr>\n",
       "    <tr>\n",
       "      <th>1050547</th>\n",
       "      <td>0</td>\n",
       "      <td>59.0</td>\n",
       "      <td>0</td>\n",
       "      <td>1.0</td>\n",
       "      <td>0</td>\n",
       "      <td>0</td>\n",
       "      <td>27150000.0</td>\n",
       "      <td>330000.0</td>\n",
       "      <td>2090000.0</td>\n",
       "      <td>0.0</td>\n",
       "      <td>...</td>\n",
       "      <td>1</td>\n",
       "      <td>1</td>\n",
       "      <td>583981.0</td>\n",
       "      <td>0</td>\n",
       "      <td>0</td>\n",
       "      <td>0</td>\n",
       "      <td>0</td>\n",
       "      <td>0</td>\n",
       "      <td>0</td>\n",
       "      <td>2019</td>\n",
       "    </tr>\n",
       "    <tr>\n",
       "      <th>1050666</th>\n",
       "      <td>0</td>\n",
       "      <td>39.0</td>\n",
       "      <td>1</td>\n",
       "      <td>1.0</td>\n",
       "      <td>0</td>\n",
       "      <td>0</td>\n",
       "      <td>40000000.0</td>\n",
       "      <td>350000.0</td>\n",
       "      <td>1950000.0</td>\n",
       "      <td>0.0</td>\n",
       "      <td>...</td>\n",
       "      <td>1</td>\n",
       "      <td>1</td>\n",
       "      <td>3474.0</td>\n",
       "      <td>0</td>\n",
       "      <td>0</td>\n",
       "      <td>0</td>\n",
       "      <td>0</td>\n",
       "      <td>1</td>\n",
       "      <td>0</td>\n",
       "      <td>2020</td>\n",
       "    </tr>\n",
       "    <tr>\n",
       "      <th>1050707</th>\n",
       "      <td>0</td>\n",
       "      <td>31.0</td>\n",
       "      <td>2</td>\n",
       "      <td>1.0</td>\n",
       "      <td>0</td>\n",
       "      <td>0</td>\n",
       "      <td>115000000.0</td>\n",
       "      <td>700000.0</td>\n",
       "      <td>2000000.0</td>\n",
       "      <td>0.0</td>\n",
       "      <td>...</td>\n",
       "      <td>1</td>\n",
       "      <td>1</td>\n",
       "      <td>3538.6</td>\n",
       "      <td>0</td>\n",
       "      <td>0</td>\n",
       "      <td>0</td>\n",
       "      <td>0</td>\n",
       "      <td>3</td>\n",
       "      <td>0</td>\n",
       "      <td>2019</td>\n",
       "    </tr>\n",
       "  </tbody>\n",
       "</table>\n",
       "<p>27963 rows × 44 columns</p>\n",
       "</div>"
      ],
      "text/plain": [
       "         SexoDesc  Edad  EstadoCivilDesc  ProfesionDesc  indClienteEsEmpleado  \\\n",
       "7               1  43.0                0            1.0                     0   \n",
       "63              0  47.0                0            1.0                     0   \n",
       "77              1  55.0                1            1.0                     0   \n",
       "153             1  19.0                0            1.0                     0   \n",
       "192             1  21.0                0            1.0                     0   \n",
       "...           ...   ...              ...            ...                   ...   \n",
       "1050503         0  26.0                0            3.0                     0   \n",
       "1050514         1  25.0                0            3.0                     0   \n",
       "1050547         0  59.0                0            1.0                     0   \n",
       "1050666         0  39.0                1            1.0                     0   \n",
       "1050707         0  31.0                2            1.0                     0   \n",
       "\n",
       "         TipoClienteDesc  ValorActivos  ValorEgresos  ValorIngresos  \\\n",
       "7                      0   110000000.0     1200000.0      3000000.0   \n",
       "63                     0     5000000.0      150000.0       877803.0   \n",
       "77                     0   401130000.0    25416000.0     31563333.0   \n",
       "153                    0    30000000.0      500000.0      2200000.0   \n",
       "192                    0    58200000.0      380000.0      2900000.0   \n",
       "...                  ...           ...           ...            ...   \n",
       "1050503                0    30000000.0      750000.0      2000000.0   \n",
       "1050514                0    60000000.0      600000.0      2900000.0   \n",
       "1050547                0    27150000.0      330000.0      2090000.0   \n",
       "1050666                0    40000000.0      350000.0      1950000.0   \n",
       "1050707                0   115000000.0      700000.0      2000000.0   \n",
       "\n",
       "         ValorOtrosingresos  ...  NumeroOperacionesCartera  \\\n",
       "7                       0.0  ...                         0   \n",
       "63                      0.0  ...                         0   \n",
       "77                      0.0  ...                         2   \n",
       "153                     0.0  ...                         0   \n",
       "192                     0.0  ...                         1   \n",
       "...                     ...  ...                       ...   \n",
       "1050503                 0.0  ...                         1   \n",
       "1050514                 0.0  ...                         1   \n",
       "1050547                 0.0  ...                         1   \n",
       "1050666                 0.0  ...                         1   \n",
       "1050707                 0.0  ...                         1   \n",
       "\n",
       "         NumeroProductosCaptacion  SaldoTotalCaptaciones  NumCreditosVencidos  \\\n",
       "7                               1                16336.0                    0   \n",
       "63                              1              2458249.0                    0   \n",
       "77                              1                    1.0                    0   \n",
       "153                             1              6000000.0                    0   \n",
       "192                             1                10077.0                    0   \n",
       "...                           ...                    ...                  ...   \n",
       "1050503                         1                66791.0                    0   \n",
       "1050514                         1              1811912.0                    0   \n",
       "1050547                         1               583981.0                    0   \n",
       "1050666                         1                 3474.0                    0   \n",
       "1050707                         1                 3538.6                    0   \n",
       "\n",
       "         NumeroTCVencidas  NumOperacionesCarteraVencida  \\\n",
       "7                       0                             0   \n",
       "63                      0                             0   \n",
       "77                      0                             0   \n",
       "153                     0                             0   \n",
       "192                     0                             0   \n",
       "...                   ...                           ...   \n",
       "1050503                 0                             0   \n",
       "1050514                 0                             0   \n",
       "1050547                 0                             0   \n",
       "1050666                 0                             0   \n",
       "1050707                 0                             0   \n",
       "\n",
       "         SaldoTotalCarteraVencida  Regional  Churn  Year  \n",
       "7                               0         0      1  2020  \n",
       "63                              0         0      0  2020  \n",
       "77                              0         0      0  2019  \n",
       "153                             0         2      1  2020  \n",
       "192                             0         2      1  2019  \n",
       "...                           ...       ...    ...   ...  \n",
       "1050503                         0         1      0  2019  \n",
       "1050514                         0         1      0  2019  \n",
       "1050547                         0         0      0  2019  \n",
       "1050666                         0         1      0  2020  \n",
       "1050707                         0         3      0  2019  \n",
       "\n",
       "[27963 rows x 44 columns]"
      ]
     },
     "execution_count": 91,
     "metadata": {},
     "output_type": "execute_result"
    }
   ],
   "source": [
    "df4_N=new_df.drop(['ClienteID','SBAN','TipoDoctoIdentificacionCD','NaturalezaJuridicaDesc','EstadoClienteDesc','ClienteFallecido','FechaVinculacionBAC'], axis=1)\n",
    "df4_N"
   ]
  },
  {
   "cell_type": "code",
   "execution_count": 94,
   "id": "048cb494",
   "metadata": {},
   "outputs": [],
   "source": [
    "#Selección de variables dependientes e independietes\n",
    "X = df4_N.drop(['Churn'], axis=1)\n",
    "Y= df4_N['Churn']"
   ]
  },
  {
   "cell_type": "code",
   "execution_count": 97,
   "id": "cd80e93a",
   "metadata": {},
   "outputs": [],
   "source": [
    "# División de la matriz en datos de entrenamiento (70%) y  prueba (30%)\n",
    "X_train, X_test, Y_train, Y_test = train_test_split(X, Y, test_size = 0.3, random_state = 0)"
   ]
  },
  {
   "cell_type": "code",
   "execution_count": 98,
   "id": "95d0e9ea",
   "metadata": {},
   "outputs": [],
   "source": [
    "#Definición de los modelos de entrenamiento\n",
    "DTclassifier = DecisionTreeClassifier()\n",
    "RandomForestclassifier = RandomForestClassifier()\n",
    "LOGISTICclassifier = LogisticRegression()"
   ]
  },
  {
   "cell_type": "code",
   "execution_count": 99,
   "id": "aac92c3e",
   "metadata": {},
   "outputs": [
    {
     "name": "stderr",
     "output_type": "stream",
     "text": [
      "lbfgs failed to converge (status=1):\n",
      "STOP: TOTAL NO. of ITERATIONS REACHED LIMIT.\n",
      "\n",
      "Increase the number of iterations (max_iter) or scale the data as shown in:\n",
      "    https://scikit-learn.org/stable/modules/preprocessing.html\n",
      "Please also refer to the documentation for alternative solver options:\n",
      "    https://scikit-learn.org/stable/modules/linear_model.html#logistic-regression\n"
     ]
    },
    {
     "data": {
      "text/plain": [
       "LogisticRegression()"
      ]
     },
     "execution_count": 99,
     "metadata": {},
     "output_type": "execute_result"
    }
   ],
   "source": [
    "DTclassifier.fit(X_train, Y_train)\n",
    "RandomForestclassifier.fit(X_train, Y_train)\n",
    "LOGISTICclassifier.fit(X_train, Y_train)"
   ]
  },
  {
   "cell_type": "code",
   "execution_count": 100,
   "id": "5c36130e",
   "metadata": {},
   "outputs": [],
   "source": [
    "DTpred = DTclassifier.predict(X_train)\n",
    "RFpred = RandomForestclassifier.predict(X_train)\n",
    "LOGISTICpred = LOGISTICclassifier.predict(X_train)"
   ]
  },
  {
   "cell_type": "code",
   "execution_count": 101,
   "id": "18b5adc8",
   "metadata": {},
   "outputs": [
    {
     "name": "stdout",
     "output_type": "stream",
     "text": [
      "Accuracy of the Decision Tree Classifier:  0.9998978236436089\n",
      "Accuracy of the Random Forest Classifier:  0.9998978236436089\n",
      "Accuracy of the Logistic Regression Classifier:  0.5025544089097783\n"
     ]
    }
   ],
   "source": [
    "DTaccuracy = accuracy_score(Y_train, DTpred)\n",
    "print(\"Accuracy of the Decision Tree Classifier: \",DTaccuracy)\n",
    "\n",
    "RFaccuracy = accuracy_score(Y_train, RFpred)\n",
    "print(\"Accuracy of the Random Forest Classifier: \",RFaccuracy)\n",
    "\n",
    "LOGISTICaccuracy = accuracy_score(Y_train, LOGISTICpred)\n",
    "print(\"Accuracy of the Logistic Regression Classifier: \",LOGISTICaccuracy)"
   ]
  },
  {
   "cell_type": "code",
   "execution_count": 103,
   "id": "bc908f36",
   "metadata": {},
   "outputs": [
    {
     "data": {
      "text/plain": [
       "array([[9802,    0],\n",
       "       [   2, 9770]], dtype=int64)"
      ]
     },
     "execution_count": 103,
     "metadata": {},
     "output_type": "execute_result"
    }
   ],
   "source": [
    "cmDT = confusion_matrix(Y_train,DTpred)\n",
    "cmDT"
   ]
  },
  {
   "cell_type": "code",
   "execution_count": 104,
   "id": "1cf95298",
   "metadata": {},
   "outputs": [
    {
     "name": "stdout",
     "output_type": "stream",
     "text": [
      "              precision    recall  f1-score   support\n",
      "\n",
      "           0       1.00      1.00      1.00      9802\n",
      "           1       1.00      1.00      1.00      9772\n",
      "\n",
      "    accuracy                           1.00     19574\n",
      "   macro avg       1.00      1.00      1.00     19574\n",
      "weighted avg       1.00      1.00      1.00     19574\n",
      "\n"
     ]
    }
   ],
   "source": [
    "print(classification_report(Y_train, DTpred))"
   ]
  },
  {
   "cell_type": "code",
   "execution_count": 105,
   "id": "e5dc28b7",
   "metadata": {},
   "outputs": [
    {
     "data": {
      "text/plain": [
       "array([[2075, 2096],\n",
       "       [2140, 2078]], dtype=int64)"
      ]
     },
     "execution_count": 105,
     "metadata": {},
     "output_type": "execute_result"
    }
   ],
   "source": [
    "DTpred2 = DTclassifier.predict(X_test)\n",
    "cmDT2 = confusion_matrix(Y_test,DTpred2)\n",
    "cmDT2"
   ]
  },
  {
   "cell_type": "code",
   "execution_count": 106,
   "id": "d58b1891",
   "metadata": {},
   "outputs": [
    {
     "name": "stdout",
     "output_type": "stream",
     "text": [
      "              precision    recall  f1-score   support\n",
      "\n",
      "           0       0.49      0.50      0.49      4171\n",
      "           1       0.50      0.49      0.50      4218\n",
      "\n",
      "    accuracy                           0.50      8389\n",
      "   macro avg       0.50      0.50      0.50      8389\n",
      "weighted avg       0.50      0.50      0.50      8389\n",
      "\n"
     ]
    }
   ],
   "source": [
    "print(classification_report(Y_test, DTpred2))"
   ]
  },
  {
   "cell_type": "code",
   "execution_count": 107,
   "id": "fb90beae",
   "metadata": {},
   "outputs": [
    {
     "data": {
      "text/plain": [
       "array([[9800,    2],\n",
       "       [   0, 9772]], dtype=int64)"
      ]
     },
     "execution_count": 107,
     "metadata": {},
     "output_type": "execute_result"
    }
   ],
   "source": [
    "cmRF = confusion_matrix(Y_train,RFpred)\n",
    "cmRF"
   ]
  },
  {
   "cell_type": "code",
   "execution_count": 108,
   "id": "b5096f21",
   "metadata": {},
   "outputs": [
    {
     "name": "stdout",
     "output_type": "stream",
     "text": [
      "              precision    recall  f1-score   support\n",
      "\n",
      "           0       1.00      1.00      1.00      9802\n",
      "           1       1.00      1.00      1.00      9772\n",
      "\n",
      "    accuracy                           1.00     19574\n",
      "   macro avg       1.00      1.00      1.00     19574\n",
      "weighted avg       1.00      1.00      1.00     19574\n",
      "\n"
     ]
    }
   ],
   "source": [
    "print(classification_report(Y_train, RFpred))"
   ]
  },
  {
   "cell_type": "code",
   "execution_count": 109,
   "id": "d2d90140",
   "metadata": {},
   "outputs": [
    {
     "name": "stdout",
     "output_type": "stream",
     "text": [
      "              precision    recall  f1-score   support\n",
      "\n",
      "           0       0.49      0.53      0.51      4171\n",
      "           1       0.50      0.47      0.48      4218\n",
      "\n",
      "    accuracy                           0.50      8389\n",
      "   macro avg       0.50      0.50      0.50      8389\n",
      "weighted avg       0.50      0.50      0.50      8389\n",
      "\n"
     ]
    }
   ],
   "source": [
    "RFpred2 = RandomForestclassifier.predict(X_test)\n",
    "print(classification_report(Y_test, RFpred2))"
   ]
  },
  {
   "cell_type": "code",
   "execution_count": 110,
   "id": "506230da",
   "metadata": {},
   "outputs": [
    {
     "name": "stdout",
     "output_type": "stream",
     "text": [
      ">1, train: 0.504, test: 0.503\n",
      ">2, train: 0.505, test: 0.496\n",
      ">3, train: 0.509, test: 0.499\n",
      ">4, train: 0.510, test: 0.497\n",
      ">5, train: 0.512, test: 0.500\n",
      ">6, train: 0.513, test: 0.500\n",
      ">7, train: 0.516, test: 0.498\n",
      ">8, train: 0.520, test: 0.500\n",
      ">9, train: 0.524, test: 0.499\n",
      ">10, train: 0.527, test: 0.498\n",
      ">11, train: 0.530, test: 0.497\n",
      ">12, train: 0.540, test: 0.494\n",
      ">13, train: 0.545, test: 0.496\n",
      ">14, train: 0.549, test: 0.494\n",
      ">15, train: 0.553, test: 0.495\n",
      ">16, train: 0.560, test: 0.498\n",
      ">17, train: 0.564, test: 0.498\n",
      ">18, train: 0.572, test: 0.497\n",
      ">19, train: 0.579, test: 0.496\n",
      ">20, train: 0.585, test: 0.497\n",
      ">21, train: 0.593, test: 0.498\n",
      ">22, train: 0.599, test: 0.497\n",
      ">23, train: 0.608, test: 0.502\n",
      ">24, train: 0.618, test: 0.501\n",
      ">25, train: 0.628, test: 0.503\n",
      ">26, train: 0.636, test: 0.503\n",
      ">27, train: 0.650, test: 0.504\n",
      ">28, train: 0.659, test: 0.503\n",
      ">29, train: 0.671, test: 0.502\n"
     ]
    },
    {
     "data": {
      "image/png": "[encoded data removed]",
      "text/plain": [
       "<Figure size 432x288 with 1 Axes>"
      ]
     },
     "metadata": {
      "needs_background": "light"
     },
     "output_type": "display_data"
    }
   ],
   "source": [
    "# Definición de las listas para colocar los scores obtenidos\n",
    "train_scores, test_scores = list(), list()\n",
    "# Definción de la máxima profundidad del arbol\n",
    "values = [i for i in range(1, 30)]\n",
    "for i in values:\n",
    "\t# Configuración del modelo\n",
    "\tmodel = DecisionTreeClassifier(max_depth=i, criterion = 'gini',min_samples_leaf=2)\n",
    "\t# fit model on the training dataset\n",
    "\tmodel.fit(X_train, Y_train)\n",
    "\t# Evaluación de los datos de entrenamiento\n",
    "\ttrain_yhat = model.predict(X_train)\n",
    "\ttrain_acc = accuracy_score(Y_train, train_yhat)\n",
    "\ttrain_scores.append(train_acc)\n",
    "\t# Evaluación en los datos de prueba\n",
    "\ttest_yhat = model.predict(X_test)\n",
    "\ttest_acc = accuracy_score(Y_test, test_yhat)\n",
    "\ttest_scores.append(test_acc)\n",
    "\t# Valores obenidos apra cada profundidad\n",
    "\tprint('>%d, train: %.3f, test: %.3f' % (i, train_acc, test_acc))\n",
    "# Gráfico de los datos de prueba y entrenamiento en función de la profundidad\n",
    "plt.plot(values, train_scores, '-o', label='Train')\n",
    "plt.plot(values, test_scores, '-o', label='Test')\n",
    "plt.legend()\n",
    "plt.show()"
   ]
  },
  {
   "cell_type": "markdown",
   "id": "cb0e4480",
   "metadata": {},
   "source": [
    "# Alternativa 3"
   ]
  },
  {
   "cell_type": "code",
   "execution_count": 111,
   "id": "872d3c6d",
   "metadata": {},
   "outputs": [
    {
     "name": "stderr",
     "output_type": "stream",
     "text": [
      "In a future version of pandas all arguments of DataFrame.drop except for the argument 'labels' will be keyword-only.\n"
     ]
    }
   ],
   "source": [
    "X = np.array(df4_N.drop(['Churn','Year'],1))\n",
    "Y= np.array(df4_N['Churn'])\n",
    "# Splitting feature matrix for training (70%) and test (30%)\n",
    "X_train, X_test, Y_train, Y_test = train_test_split(X, Y, test_size = 0.3, stratify = Y, random_state = 500)"
   ]
  },
  {
   "cell_type": "code",
   "execution_count": 112,
   "id": "584a0e44",
   "metadata": {},
   "outputs": [],
   "source": [
    "# data normalization with sklearn\n",
    "sc = StandardScaler()\n",
    "X_train = sc.fit_transform(X_train)\n",
    "X_test = sc.transform(X_test)"
   ]
  },
  {
   "cell_type": "code",
   "execution_count": 113,
   "id": "7d2c4f15",
   "metadata": {},
   "outputs": [],
   "source": [
    "r=26\n",
    "DTclassifier = DecisionTreeClassifier(criterion = 'entropy',random_state=r)\n",
    "XGBoostclassifier = XGBClassifier()\n",
    "RandomForestclassifier = RandomForestClassifier(criterion = 'entropy')\n",
    "SVMclassifier = SVC(kernel='rbf',probability=True)\n",
    "LOGISTICclassifier = LogisticRegression()\n",
    "KNNclassifier = KNeighborsClassifier()\n",
    "GNBclassifier = GaussianNB() \n",
    "BaggingClassifier= BaggingClassifier(random_state=r)\n",
    "NeuralNetworkClassifier= MLPClassifier(random_state=r)\n",
    "GBM = GradientBoostingClassifier(random_state=r)"
   ]
  },
  {
   "cell_type": "code",
   "execution_count": 114,
   "id": "ae80bc85",
   "metadata": {},
   "outputs": [
    {
     "name": "stdout",
     "output_type": "stream",
     "text": [
      "Accuracy of the Decision Tree Classifier:  0.503158898557635\n"
     ]
    }
   ],
   "source": [
    "DTclassifier.fit(X_train, Y_train)\n",
    "DTpred = DTclassifier.predict(X_test)\n",
    "DTaccuracy = accuracy_score(Y_test, DTpred)\n",
    "print(\"Accuracy of the Decision Tree Classifier: \",DTaccuracy)"
   ]
  },
  {
   "cell_type": "code",
   "execution_count": 115,
   "id": "8360521d",
   "metadata": {},
   "outputs": [
    {
     "name": "stdout",
     "output_type": "stream",
     "text": [
      "Accuracy of the XGBoost Classifier:  0.4956490642508046\n"
     ]
    }
   ],
   "source": [
    "XGBoostclassifier.fit(X_train, Y_train)\n",
    "XGBpred = XGBoostclassifier.predict(X_test)\n",
    "XGBaccuracy = accuracy_score(Y_test, XGBpred)\n",
    "print(\"Accuracy of the XGBoost Classifier: \",XGBaccuracy)"
   ]
  },
  {
   "cell_type": "code",
   "execution_count": 116,
   "id": "59f3a161",
   "metadata": {},
   "outputs": [
    {
     "name": "stdout",
     "output_type": "stream",
     "text": [
      "Accuracy of the Random Forest Classifier:  0.4927881749910597\n"
     ]
    }
   ],
   "source": [
    "RandomForestclassifier.fit(X_train, Y_train)\n",
    "RFpred = RandomForestclassifier.predict(X_test)\n",
    "RFaccuracy = accuracy_score(Y_test, RFpred)\n",
    "print(\"Accuracy of the Random Forest Classifier: \",RFaccuracy)"
   ]
  },
  {
   "cell_type": "code",
   "execution_count": 117,
   "id": "16a84f01",
   "metadata": {},
   "outputs": [
    {
     "name": "stdout",
     "output_type": "stream",
     "text": [
      "Accuracy of the Logistic Regression Classifier:  0.5018476576469186\n"
     ]
    }
   ],
   "source": [
    "LOGISTICclassifier.fit(X_train, Y_train)\n",
    "LOGISTICpred = LOGISTICclassifier.predict(X_test)\n",
    "LOGISTICaccuracy = accuracy_score(Y_test, LOGISTICpred)\n",
    "print(\"Accuracy of the Logistic Regression Classifier: \",LOGISTICaccuracy)"
   ]
  },
  {
   "cell_type": "code",
   "execution_count": 118,
   "id": "73aa2208",
   "metadata": {},
   "outputs": [
    {
     "name": "stdout",
     "output_type": "stream",
     "text": [
      "Accuracy of the GNB Classifier:  0.5016092502086065\n"
     ]
    }
   ],
   "source": [
    "GNBclassifier.fit(X_train, Y_train)\n",
    "GNBpred = GNBclassifier.predict(X_test)\n",
    "GNBaccuracy = accuracy_score(Y_test, GNBpred)\n",
    "print(\"Accuracy of the GNB Classifier: \", GNBaccuracy) "
   ]
  },
  {
   "cell_type": "code",
   "execution_count": 119,
   "id": "c3d3453a",
   "metadata": {},
   "outputs": [
    {
     "name": "stdout",
     "output_type": "stream",
     "text": [
      "Accuracy of the Bagging Classifier:  0.493622601025152\n"
     ]
    }
   ],
   "source": [
    "BaggingClassifier.fit(X_train, Y_train)\n",
    "Baggingpred= BaggingClassifier.predict(X_test)\n",
    "Baggingaccuracy = accuracy_score(Y_test, Baggingpred)\n",
    "print(\"Accuracy of the Bagging Classifier: \", Baggingaccuracy)"
   ]
  },
  {
   "cell_type": "code",
   "execution_count": 120,
   "id": "cc1f1fd6",
   "metadata": {},
   "outputs": [
    {
     "name": "stdout",
     "output_type": "stream",
     "text": [
      "Accuracy of the Neural Network Classifier:  0.49827154607223745\n"
     ]
    },
    {
     "name": "stderr",
     "output_type": "stream",
     "text": [
      "Stochastic Optimizer: Maximum iterations (200) reached and the optimization hasn't converged yet.\n"
     ]
    }
   ],
   "source": [
    "NeuralNetworkClassifier.fit(X_train, Y_train)\n",
    "NNpred= NeuralNetworkClassifier.predict(X_test)\n",
    "NNaccuracy = accuracy_score(Y_test, NNpred)\n",
    "print(\"Accuracy of the Neural Network Classifier: \", NNaccuracy)"
   ]
  },
  {
   "cell_type": "code",
   "execution_count": 121,
   "id": "23ff9bb6",
   "metadata": {},
   "outputs": [
    {
     "name": "stdout",
     "output_type": "stream",
     "text": [
      "Accuracy of the GBM Classifier:  0.49421861962093216\n"
     ]
    }
   ],
   "source": [
    "GBM.fit(X_train, Y_train)\n",
    "GBMpred= GBM.predict(X_test)\n",
    "GBMaccuracy = accuracy_score(Y_test, GBMpred)\n",
    "print(\"Accuracy of the GBM Classifier: \", GBMaccuracy)"
   ]
  },
  {
   "cell_type": "code",
   "execution_count": 125,
   "id": "3b849c95",
   "metadata": {},
   "outputs": [
    {
     "name": "stdout",
     "output_type": "stream",
     "text": [
      " 1) EstadoCivilDesc                0.127562\n",
      " 2) ValorIngresos                  0.122632\n",
      " 3) NumCreditosVencidos            0.103740\n",
      " 4) ValorOtrosingresos             0.102861\n",
      " 5) TotalPasivos                   0.096350\n",
      " 6) NumeroCuentasAhorroInactivas   0.089301\n",
      " 7) ValorEgresos                   0.065580\n",
      " 8) NumCreditos                    0.063416\n",
      " 9) NumeroOperacionesCartera       0.038722\n",
      "10) SaldoCarteraVencida            0.035548\n",
      "11) ProfesionDesc                  0.034054\n",
      "12) Churn                          0.029801\n",
      "13) NumeroCuentasCorrienteActivas  0.020311\n",
      "14) Edad                           0.017523\n",
      "15) indClienteEsEmpleado           0.015583\n",
      "16) SaldoTCVencido                 0.006804\n",
      "17) NumeroProductosCaptacion       0.005946\n",
      "18) SaldoCreditos                  0.005202\n",
      "19) SaldoCuentasAhorroActivas      0.003578\n",
      "20) NumeroCDAT                     0.002849\n",
      "21) SaldoTotalCaptaciones          0.002570\n",
      "22) NumeroCuentascorrienteInactivas 0.002185\n",
      "23) NumeroTC                       0.001951\n",
      "24) SaldoCuentasAhorroInactivas    0.001454\n",
      "25) SaldoTC                        0.001381\n",
      "26) SaldoCuentasCorrienteActivas   0.000787\n",
      "27) SaldoCDT                       0.000779\n",
      "28) SaldoTotalCarteraVencida       0.000412\n",
      "29) NumeroSobregisrosUso           0.000323\n",
      "30) NumeroCDT                      0.000317\n",
      "31) NumeroTCVencidas               0.000292\n",
      "32) SaldoCuentascorrienteInactivas 0.000184\n",
      "33) ValorPatrimonio                0.000000\n",
      "34) SaldoTotalCartera              0.000000\n",
      "35) SaldoCDAT                      0.000000\n",
      "36) SaldoSobregirosUso             0.000000\n",
      "37) ValorActivos                   0.000000\n",
      "38) TipoClienteDesc                0.000000\n",
      "39) SaldoSobregirosVencidos        0.000000\n",
      "40) NumOperacionesCarteraVencida   0.000000\n",
      "41) Regional                       0.000000\n",
      "42) NumeroCuentasAhorroActivas     0.000000\n"
     ]
    }
   ],
   "source": [
    "importances = DTclassifier.feature_importances_\n",
    "sorted_indices = np.argsort(importances)[::-1]\n",
    " \n",
    "feat_labels = df4_N.columns[1:]\n",
    " \n",
    "for f in range(X_test.shape[1]):\n",
    "    print(\"%2d) %-*s %f\" % (f + 1, 30,\n",
    "                            feat_labels[sorted_indices[f]],\n",
    "                            importances[sorted_indices[f]]))"
   ]
  },
  {
   "cell_type": "code",
   "execution_count": 126,
   "id": "fc65214f",
   "metadata": {},
   "outputs": [
    {
     "data": {
      "text/plain": [
       "array([0.01752292, 0.12756215, 0.03405442, 0.01558329, 0.        ,\n",
       "       0.        , 0.06558025, 0.12263152, 0.10286132, 0.        ,\n",
       "       0.09635008, 0.06341557, 0.00520237, 0.03554829, 0.00195094,\n",
       "       0.00138064, 0.00680441, 0.00032319, 0.        , 0.        ,\n",
       "       0.        , 0.00357849, 0.08930138, 0.00145355, 0.02031081,\n",
       "       0.00078662, 0.00218462, 0.00018443, 0.0003169 , 0.00077915,\n",
       "       0.00284921, 0.        , 0.        , 0.03872247, 0.00594624,\n",
       "       0.00257043, 0.1037397 , 0.00029229, 0.        , 0.00041176,\n",
       "       0.        , 0.02980058])"
      ]
     },
     "execution_count": 126,
     "metadata": {},
     "output_type": "execute_result"
    }
   ],
   "source": [
    "DTclassifier.feature_importances_"
   ]
  },
  {
   "cell_type": "code",
   "execution_count": 127,
   "id": "b3e2a549",
   "metadata": {},
   "outputs": [
    {
     "data": {
      "text/plain": [
       "array([20, 40, 38, 19,  4,  5, 18, 31, 32,  9, 27, 37, 28, 17, 39, 29, 25,\n",
       "       15, 23, 14, 26, 35, 30, 21, 12, 34, 16,  3,  0, 24, 41,  2, 13, 33,\n",
       "       11,  6, 22, 10,  8, 36,  7,  1], dtype=int64)"
      ]
     },
     "execution_count": 127,
     "metadata": {},
     "output_type": "execute_result"
    }
   ],
   "source": [
    "DTclassifier.feature_importances_.argsort()"
   ]
  },
  {
   "cell_type": "code",
   "execution_count": 128,
   "id": "65f6c701",
   "metadata": {},
   "outputs": [
    {
     "name": "stderr",
     "output_type": "stream",
     "text": [
      "Permutation explainer: 8390it [03:00, 45.07it/s]                          \n"
     ]
    }
   ],
   "source": [
    "explainer = shap.Explainer(DTclassifier.predict, X_test)\n",
    "shap_values = explainer(X_test)"
   ]
  },
  {
   "cell_type": "code",
   "execution_count": 129,
   "id": "598408e9",
   "metadata": {},
   "outputs": [
    {
     "data": {
      "image/png": "[encoded data removed]",
      "text/plain": [
       "<Figure size 576x468 with 1 Axes>"
      ]
     },
     "metadata": {},
     "output_type": "display_data"
    }
   ],
   "source": [
    "shap.plots.bar(shap_values)"
   ]
  },
  {
   "cell_type": "code",
   "execution_count": null,
   "id": "fb4e53ca",
   "metadata": {},
   "outputs": [],
   "source": []
  }
 ],
 "metadata": {
  "kernelspec": {
   "display_name": "Python 3 (ipykernel)",
   "language": "python",
   "name": "python3"
  },
  "language_info": {
   "codemirror_mode": {
    "name": "ipython",
    "version": 3
   },
   "file_extension": ".py",
   "mimetype": "text/x-python",
   "name": "python",
   "nbconvert_exporter": "python",
   "pygments_lexer": "ipython3",
   "version": "3.9.12"
  }
 },
 "nbformat": 4,
 "nbformat_minor": 5
}
